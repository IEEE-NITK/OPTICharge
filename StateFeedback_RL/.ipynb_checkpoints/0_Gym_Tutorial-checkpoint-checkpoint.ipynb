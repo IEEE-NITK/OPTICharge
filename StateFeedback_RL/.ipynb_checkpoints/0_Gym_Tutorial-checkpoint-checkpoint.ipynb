{
 "cells": [
  {
   "cell_type": "markdown",
   "metadata": {},
   "source": [
    "# Gym Tutorial\n",
    "\n",
    "This tutorial focuses on how to use DFN gym environment to verify RL algorithm. The goal of the environment is to reach to the target SOC by desigining input current. In the case of unconstrained problem, it is obvious that the optimal charging profile is to maximize the current as possible. \n",
    "\n",
    "We first set up the gym environment and test this environment with constant input profile, and then plot the obtained results."
   ]
  },
  {
   "cell_type": "code",
   "execution_count": 1,
   "metadata": {},
   "outputs": [
    {
     "name": "stdout",
     "output_type": "stream",
     "text": [
      "Theoretical OneC is,  57.78042250737442 A\n",
      "Init volt: 3.200003536115786\n",
      "Action space is discrete?:  False\n",
      "Initial SOC:  0.053461421461421466\n",
      "Target SOC:  0.8\n",
      "Maximum allowed current:  [-150.]\n",
      "Minimum allowed current:  [0.]\n",
      "time step: 30\n",
      "dimension of actions: 1\n",
      "dimension of observations: 892\n"
     ]
    }
   ],
   "source": [
    "# Setting\n",
    "\n",
    "import numpy as np\n",
    "import logz\n",
    "import scipy.signal\n",
    "import gym\n",
    "\n",
    "from gym_dfn.envs.dfn_env import *\n",
    "from gym_dfn.envs.ParamFile_LCO2 import p\n",
    "from settings_file import *\n",
    "\n",
    "env = DFN(sett=settings, cont_sett=control_settings)\n",
    "\n",
    "print(\"Action space is discrete?: \", env.discrete)\n",
    "if env.discrete:\n",
    "    print(\"Size of actions: {}\".format(len(env.currents)))\n",
    "print(\"Initial SOC: \",env.SOCn)\n",
    "print(\"Target SOC: \",env.SOC_desired)\n",
    "\n",
    "if env.discrete:\n",
    "    print(\"Maximum current: \", env.currents[0])\n",
    "    print(\"Minimum current: \", env.currents[19])\n",
    "else:\n",
    "    print(\"Maximum allowed current: \", env.action_space.low)\n",
    "    print(\"Minimum allowed current: \", env.action_space.high)\n",
    "    \n",
    "ac_dim = env.action_space.shape[0]\n",
    "ob_dim = env.observation_space.shape[0]\n",
    "\n",
    "print('time step: {}'.format(env.dt))\n",
    "print('dimension of actions: {}'.format(ac_dim)) #1, SHP\n",
    "print('dimension of observations: {}'.format(ob_dim)) #3, SHP\n"
   ]
  },
  {
   "cell_type": "markdown",
   "metadata": {},
   "source": [
    "We apply constant input current, i.e., 100A for charging. Note that - sign indicates the battery charging profile."
   ]
  },
  {
   "cell_type": "code",
   "execution_count": 7,
   "metadata": {},
   "outputs": [
    {
     "name": "stdout",
     "output_type": "stream",
     "text": [
      "Theoretical OneC is,  57.78042250737442 A\n",
      "Init volt: 3.200003536115786\n",
      "Reset\n",
      "One C:57.78042250737442\n",
      "simulation is done\n"
     ]
    }
   ],
   "source": [
    "# Reset\n",
    "ob = env.reset()\n",
    "\n",
    "# Input profile\n",
    "mins = 25\n",
    "NT = 2*mins\n",
    "\n",
    "print('One C:{}'.format(env.OneC))\n",
    "action = -3/5*env.OneC* np.ones(NT)\n",
    "\n",
    "# Save infos.\n",
    "\n",
    "ACTION_VEC = []\n",
    "SOC_VEC = []\n",
    "T_VEC = []\n",
    "VOLTAGE_VEC = []\n",
    "TIME_VEC = []\n",
    "RETURN_VALUE = 0\n",
    "done = False\n",
    "\n",
    "cex_sim = []\n",
    "etasLn_sim = []\n",
    "cssn_sim = []\n",
    "cssp_sim = []\n",
    "cavgn_sim = []\n",
    "cavgp_sim = []\n",
    "nLis_sim = []\n",
    "phi_s_n_sim = []\n",
    "phi_s_p_sim = []\n",
    "ien_sim = []\n",
    "iep_sim = []\n",
    "jn_sim =[]\n",
    "jp_sim = []\n",
    "phi_e_sim = []\n",
    "\n",
    "T1_sim = []\n",
    "T2_sim = []\n",
    "\n",
    "tt=0\n",
    "TIME_VEC.append(tt)\n",
    "SOC_VEC.append(env.info['SOCn'])\n",
    "T_VEC.append(env.info['T'])\n",
    "VOLTAGE_VEC.append(env.info['V'])\n",
    "ACTION_VEC.append(0)\n",
    "for k in range(NT):\n",
    "    \n",
    "\n",
    "    ob, rew, done, info = env.step(action[k])\n",
    "    \n",
    "    \n",
    "    tt += env.dt    \n",
    "    ACTION_VEC.append(action[k])\n",
    "    SOC_VEC.append(env.info['SOCn'])\n",
    "    T_VEC.append(env.info['T'])\n",
    "    VOLTAGE_VEC.append(env.info['V'])\n",
    "    TIME_VEC.append(tt)\n",
    "    RETURN_VALUE+=rew\n",
    "    \n",
    "    cex_sim.append(env.c_ex)\n",
    "    etasLn_sim.append(env.etasLn)\n",
    "    cssn_sim.append(env.cssn)\n",
    "    cssp_sim.append(env.cssp)\n",
    "    cavgn_sim.append(env.c_avgn)\n",
    "    cavgp_sim.append(env.c_avgp)\n",
    "    nLis_sim.append(env.nLis)\n",
    "\n",
    "    phi_s_n_sim.append(env.out_phisn)\n",
    "    phi_s_p_sim.append(env.out_phisp)\n",
    "    ien_sim.append(env.out_ien)\n",
    "    iep_sim.append(env.out_iep)\n",
    "    jn_sim.append(env.out_jn)\n",
    "    jp_sim.append(env.out_jp)\n",
    "    phi_e_sim.append(env.out_phie)\n",
    " \n",
    "    \n",
    "    if done:\n",
    "        print('Reached to the target SOC')\n",
    "        break\n",
    "        \n",
    "    if k == NT-1:\n",
    "        print('simulation is done')\n",
    "        break\n"
   ]
  },
  {
   "cell_type": "code",
   "execution_count": 4,
   "metadata": {},
   "outputs": [
    {
     "data": {
      "text/plain": [
       "Text(0, 0.5, 'Current [A]')"
      ]
     },
     "execution_count": 4,
     "metadata": {},
     "output_type": "execute_result"
    },
    {
     "data": {
      "image/png": "[encoded data removed]",
      "text/plain": [
       "<Figure size 720x468 with 1 Axes>"
      ]
     },
     "metadata": {
      "needs_background": "light"
     },
     "output_type": "display_data"
    }
   ],
   "source": [
    "import matplotlib.pyplot as plt\n",
    "import seaborn as sns\n",
    "\n",
    "\n",
    "## Plot the result\n",
    "fig, ax1 = plt.subplots(figsize = (10,6.5))\n",
    "ax1.plot(TIME_VEC,ACTION_VEC)\n",
    "ax1.set_xlabel('Time', fontsize=14)\n",
    "ax1.set_ylabel('Current [A]', fontsize=14)\n",
    "# plt.legend(loc=(0.6, 0.1), fontsize = 18)"
   ]
  },
  {
   "cell_type": "code",
   "execution_count": 5,
   "metadata": {},
   "outputs": [
    {
     "name": "stderr",
     "output_type": "stream",
     "text": [
      "No handles with labels found to put in legend.\n"
     ]
    },
    {
     "data": {
      "text/plain": [
       "<matplotlib.legend.Legend at 0x7f8bd4000e48>"
      ]
     },
     "execution_count": 5,
     "metadata": {},
     "output_type": "execute_result"
    },
    {
     "data": {
      "image/png": "[encoded data removed]",
      "text/plain": [
       "<Figure size 720x468 with 1 Axes>"
      ]
     },
     "metadata": {
      "needs_background": "light"
     },
     "output_type": "display_data"
    }
   ],
   "source": [
    "## Plot the result\n",
    "fig, ax1 = plt.subplots(figsize = (10,6.5))\n",
    "ax1.plot(TIME_VEC, np.array(T_VEC)-273)\n",
    "ax1.set_xlabel('Time', fontsize=14)\n",
    "ax1.set_ylabel('Temp [degC]')\n",
    "plt.legend(loc=(0.6, 0.1), fontsize = 18)"
   ]
  },
  {
   "cell_type": "code",
   "execution_count": 6,
   "metadata": {},
   "outputs": [
    {
     "name": "stderr",
     "output_type": "stream",
     "text": [
      "No handles with labels found to put in legend.\n"
     ]
    },
    {
     "data": {
      "text/plain": [
       "<matplotlib.legend.Legend at 0x7f8bd3fe5cc0>"
      ]
     },
     "execution_count": 6,
     "metadata": {},
     "output_type": "execute_result"
    },
    {
     "data": {
      "image/png": "[encoded data removed]",
      "text/plain": [
       "<Figure size 720x468 with 1 Axes>"
      ]
     },
     "metadata": {
      "needs_background": "light"
     },
     "output_type": "display_data"
    }
   ],
   "source": [
    "## Plot the result\n",
    "fig, ax1 = plt.subplots(figsize = (10,6.5))\n",
    "ax1.plot(TIME_VEC,VOLTAGE_VEC)\n",
    "ax1.set_xlabel('Time', fontsize=14)\n",
    "ax1.set_ylabel('Volt [V]')\n",
    "plt.legend(loc=(0.6, 0.1), fontsize = 18)"
   ]
  },
  {
   "cell_type": "markdown",
   "metadata": {},
   "source": [
    "## 1. Plot Figure\n",
    "\n",
    "2020.05.07\n",
    "\n",
    "It's important to check that all the states evolves correctly. "
   ]
  },
  {
   "cell_type": "code",
   "execution_count": null,
   "metadata": {},
   "outputs": [],
   "source": [
    "import scipy.io as sio\n",
    "import matplotlib.pyplot as plt\n",
    "import matplotlib.animation\n",
    "import numpy as np\n",
    "from IPython.display import display, clear_output\n"
   ]
  },
  {
   "cell_type": "markdown",
   "metadata": {},
   "source": [
    "## Echem states."
   ]
  },
  {
   "cell_type": "code",
   "execution_count": null,
   "metadata": {},
   "outputs": [],
   "source": [
    "time_sim = np.array(TIME_VEC)\n",
    "time_vec = time_sim\n",
    "\n",
    "xn_size = p['Nxn']-1\n",
    "xn_vec_sim = np.arange(0,xn_size)\n",
    "\n",
    "xs_size = p['Nxs']-1 # number of discretization points in separator.\n",
    "xs_vec_sim = np.arange(0,xs_size)\n",
    "\n",
    "xp_size = p['Nxp']-1 # number of discretization points in cathode\n",
    "xp_vec_sim = np.arange(0,xp_size)\n",
    "\n",
    "x_vec_size = p['Nxn'] + p['Nxs'] + p['Nxp'] - 3\n",
    "x_vec_sim = np.arange(0,x_vec_size)\n",
    "\n",
    "\n",
    "c_avgn_sim = np.array(cavgn_sim)\n",
    "c_avgn_sim = c_avgn_sim.reshape([c_avgn_sim.shape[0],c_avgn_sim.shape[1]])\n",
    "c_avgn_sim = c_avgn_sim.T\n",
    "\n",
    "c_avgp_sim = np.array(cavgp_sim)\n",
    "c_avgp_sim = c_avgp_sim.reshape([c_avgp_sim.shape[0],c_avgp_sim.shape[1]])\n",
    "c_avgp_sim = c_avgp_sim.T\n",
    "\n",
    "c_ssn_sim = np.array(cssn_sim)\n",
    "c_ssn_sim = c_ssn_sim.reshape([c_ssn_sim.shape[0],c_ssn_sim.shape[1]])\n",
    "c_ssn_sim = c_ssn_sim.T\n",
    "\n",
    "c_ssp_sim = np.array(cssp_sim)\n",
    "c_ssp_sim = c_ssp_sim.reshape([c_ssp_sim.shape[0],c_ssp_sim.shape[1]])\n",
    "c_ssp_sim = c_ssp_sim.T\n",
    "\n",
    "c_ex_sim = np.array(cex_sim)\n",
    "c_ex_sim = c_ex_sim.reshape([c_ex_sim.shape[0],c_ex_sim.shape[1]])\n",
    "c_ex_sim = c_ex_sim.T\n",
    "\n",
    "temp_sim = np.array(T_VEC)\n",
    "temp_sim = temp_sim.reshape([temp_sim.shape[0],])# shape:(,NT)\n",
    "\n",
    "soc_sim = np.array(SOC_VEC)\n",
    "\n",
    "fs = 30\n",
    "lw = 4\n",
    "\n",
    "\n",
    "for tt in range(len(time_sim)-1):\n",
    "    \n",
    "    # Figure setting\n",
    "    fig = plt.figure(figsize=(16,12))\n",
    "    grid = plt.GridSpec(5,3,hspace=1.0, wspace=0.1)\n",
    "    cssn_plt = fig.add_subplot(grid[0,0])\n",
    "    cssp_plt = fig.add_subplot(grid[0,2])\n",
    "    cavgn_plt = fig.add_subplot(grid[1,0])\n",
    "    cavgp_plt = fig.add_subplot(grid[1,2])\n",
    "    cex_plt = fig.add_subplot(grid[2,:])\n",
    "    temp_plt = fig.add_subplot(grid[3,:])\n",
    "    soc_plt = fig.add_subplot(grid[4,:])\n",
    "    \n",
    "    cssn_plt.plot(xn_vec_sim,c_ssn_sim[:,tt]/p['c_s_n_max'],LineWidth=lw)\n",
    "    cssn_plt.set_xlim((0,xn_vec_sim[-1]))\n",
    "    cssn_plt.set_ylim((0,1))\n",
    "    cssn_plt.set_xlabel('x in Anode',fontsize=fs)\n",
    "    cssn_plt.set_ylabel(r'$c^{-}_{ss}/c^{-}_{max}$',fontsize=fs)\n",
    "    cssn_plt.tick_params(labelsize=fs)\n",
    "\n",
    "    cssp_plt.plot(xp_vec_sim,c_ssp_sim[:,tt]/p['c_s_p_max'],LineWidth=lw)\n",
    "    cssp_plt.set_xlim((0,xp_vec_sim[-1]))\n",
    "    cssp_plt.set_ylim((0,1))\n",
    "    cssp_plt.set_xlabel('x in Cathode',fontsize=fs)\n",
    "    cssp_plt.set_ylabel(r'$c^{+}_{ss}/c^{+}_{max}$',fontsize=fs)\n",
    "    cssp_plt.tick_params(labelsize=fs)\n",
    "    \n",
    "    cavgn_plt.plot(xn_vec_sim,c_avgn_sim[:,tt]/p['c_s_n_max'],LineWidth=lw)\n",
    "    cavgn_plt.set_xlim((0,xn_vec_sim[-1]))\n",
    "    cavgn_plt.set_ylim((0,1))\n",
    "    cavgn_plt.set_xlabel('x',fontsize=fs)\n",
    "    cavgn_plt.set_ylabel(r'$c^{-}_{avg}/c^{-}_{max}$',fontsize=fs)\n",
    "    cavgn_plt.tick_params(labelsize=fs)\n",
    "    \n",
    "    cavgp_plt.plot(xp_vec_sim,c_avgp_sim[:,tt]/p['c_s_p_max'],LineWidth=lw)\n",
    "    cavgp_plt.set_xlim((0,xp_vec_sim[-1]))\n",
    "    cavgp_plt.set_ylim((0,1))\n",
    "    cavgp_plt.set_xlabel('x',fontsize=fs)\n",
    "    cavgp_plt.set_ylabel(r'$c^{+}_{avg}/c^{+}_{max}$',fontsize=fs)\n",
    "    cavgp_plt.tick_params(labelsize=fs)\n",
    "    \n",
    "    cex_plt.plot(x_vec_sim,c_ex_sim[:,tt],LineWidth=lw)\n",
    "    cex_plt.set_xlim((0,x_vec_sim[-1]))\n",
    "    cex_plt.set_ylim((100, 2000))\n",
    "    cex_plt.set_xlabel('x',fontsize=fs)\n",
    "    cex_plt.set_ylabel(r'$c_e(x,t)$',fontsize=fs)\n",
    "    cex_plt.tick_params(labelsize=fs)\n",
    "    temp_plt.plot(time_vec[:tt]/60,temp_sim[:tt]-273,LineWidth=lw)\n",
    "    temp_plt.set_ylim((298-273, 340-273))\n",
    "    temp_plt.set_xlim((0,time_vec[-1]/60))\n",
    "    temp_plt.set_xlabel('time [min]',fontsize=fs)\n",
    "    temp_plt.set_ylabel('Temp [degC]',fontsize=fs)\n",
    "    temp_plt.tick_params(labelsize=fs)\n",
    "    \n",
    "    soc_plt.plot(time_vec[:tt]/60,soc_sim[:tt],LineWidth=lw)\n",
    "    soc_plt.set_ylim((0,1))\n",
    "    soc_plt.set_xlim((0,time_vec[-1]/60))\n",
    "    soc_plt.set_xlabel('time [min]',fontsize=fs)\n",
    "    soc_plt.set_ylabel('SOC [-]',fontsize=fs)\n",
    "    soc_plt.tick_params(labelsize=fs)\n",
    "    \n",
    "\n",
    "    clear_output(wait=True)\n",
    "    display(fig)\n",
    "\n",
    "clear_output(wait=True)\n",
    "\n"
   ]
  },
  {
   "cell_type": "markdown",
   "metadata": {},
   "source": [
    "## Echem algebraic states."
   ]
  },
  {
   "cell_type": "code",
   "execution_count": null,
   "metadata": {},
   "outputs": [],
   "source": [
    "\n",
    "phi_s_n_sim_ = np.array(phi_s_n_sim)\n",
    "phi_s_n_sim_ = phi_s_n_sim_.reshape([phi_s_n_sim_.shape[0],phi_s_n_sim_.shape[1]])\n",
    "phi_s_n_sim_ = phi_s_n_sim_.T\n",
    "\n",
    "phi_s_p_sim_ = np.array(phi_s_p_sim)\n",
    "phi_s_p_sim_ = phi_s_p_sim_.reshape([phi_s_p_sim_.shape[0],phi_s_p_sim_.shape[1]])\n",
    "phi_s_p_sim_ = phi_s_p_sim_.T\n",
    "\n",
    "ien_sim_ = np.array(ien_sim)\n",
    "ien_sim_ = ien_sim_.reshape([ien_sim_.shape[0],ien_sim_.shape[1]])\n",
    "ien_sim_ = ien_sim_.T\n",
    "\n",
    "iep_sim_ = np.array(iep_sim)\n",
    "iep_sim_ = iep_sim_.reshape([iep_sim_.shape[0],iep_sim_.shape[1]])\n",
    "iep_sim_ = iep_sim_.T\n",
    "\n",
    "jn_sim_ = np.array(jn_sim)\n",
    "jn_sim_ = jn_sim_.reshape([jn_sim_.shape[0],jn_sim_.shape[1]])\n",
    "jn_sim_ = jn_sim_.T\n",
    "\n",
    "jp_sim_ = np.array(jp_sim)\n",
    "jp_sim_ = jp_sim_.reshape([jp_sim_.shape[0],jp_sim_.shape[1]])\n",
    "jp_sim_ = jp_sim_.T\n",
    "\n",
    "phi_e_sim_ = np.array(phi_e_sim)\n",
    "phi_e_sim_ = phi_e_sim_.reshape([phi_e_sim_.shape[0],phi_e_sim_.shape[1]])\n",
    "phi_e_sim_ = phi_e_sim_.T\n",
    "\n",
    "x_vec_phie_size = p['Nx']-1 \n",
    "x_vec_phie = np.arange(0,x_vec_phie_size)\n",
    "\n",
    "etasLn_sim_ = np.array(etasLn_sim)\n",
    "etasLn_sim_ = etasLn_sim_.reshape([etasLn_sim_.shape[0],]) # shape [1,]\n",
    "\n",
    "fs = 30\n",
    "lw = 4\n",
    "\n",
    "\n",
    "\n",
    "for tt in range(len(time_sim)-1):\n",
    "    \n",
    "    # Figure setting\n",
    "    fig = plt.figure(figsize=(16,12))\n",
    "    grid = plt.GridSpec(5,3,hspace=1.0, wspace=0.1)\n",
    "    phisn_plt = fig.add_subplot(grid[0,0])\n",
    "    phisp_plt = fig.add_subplot(grid[0,2])\n",
    "    ien_plt = fig.add_subplot(grid[1,0])\n",
    "    iep_plt = fig.add_subplot(grid[1,2])\n",
    "    jn_plt = fig.add_subplot(grid[2,0])\n",
    "    jp_plt = fig.add_subplot(grid[2,2])\n",
    "    phie_plt = fig.add_subplot(grid[3,:])\n",
    "    etasLn_plt = fig.add_subplot(grid[4,:])\n",
    "    \n",
    "\n",
    "    \n",
    "    phisn_plt.plot(xn_vec_sim,phi_s_n_sim_[:,tt],LineWidth=lw)\n",
    "#     phisn_plt.set_xlim((0,xn_vec_sim[-1]))\n",
    "#     phisn_plt.set_ylim((np.min(phi_s_n_sim),np.max(phi_s_n_sim)))\n",
    "    phisn_plt.set_xlabel('x in Anode',fontsize=fs)\n",
    "    phisn_plt.set_ylabel(r'$\\phi^{-}_{s}(x,t)$',fontsize=fs)\n",
    "    phisn_plt.tick_params(labelsize=fs)\n",
    "\n",
    "    phisp_plt.plot(xp_vec_sim,phi_s_p_sim_[:,tt],LineWidth=lw)\n",
    "#     phisp_plt.set_xlim((0,xp_vec_sim[-1]))\n",
    "#     phisp_plt.set_ylim((np.min(phi_s_p_sim),np.max(phi_s_p_sim)))\n",
    "    phisp_plt.set_xlabel('x in Cathode',fontsize=fs)\n",
    "    phisp_plt.set_ylabel(r'$\\phi^{+}_{s}(x,t)$',fontsize=fs)\n",
    "    phisp_plt.tick_params(labelsize=fs)\n",
    "    \n",
    "    ien_plt.plot(xn_vec_sim,ien_sim_[:,tt],LineWidth=lw)\n",
    "#     ien_plt.set_xlim((0,xn_vec_sim[-1]))\n",
    "#     ien_plt.set_ylim((np.min(ien_sim),np.max(ien_sim)))\n",
    "    ien_plt.set_xlabel('x in Anode',fontsize=fs)\n",
    "    ien_plt.set_ylabel(r'$i^{-}_{e}(x,t)$',fontsize=fs)\n",
    "    ien_plt.tick_params(labelsize=fs)\n",
    "    \n",
    "    iep_plt.plot(xp_vec_sim,iep_sim_[:,tt],LineWidth=lw)\n",
    "#     iep_plt.set_xlim((0,xp_vec_sim[-1]))\n",
    "#     iep_plt.set_ylim((0,1))\n",
    "    iep_plt.set_xlabel('x in Cathode',fontsize=fs)\n",
    "    iep_plt.set_ylabel(r'$i^{+}_{e}(x,t)$',fontsize=fs)\n",
    "    iep_plt.tick_params(labelsize=fs)\n",
    "    \n",
    "    jn_plt.plot(xn_vec_sim,jn_sim_[:,tt],LineWidth=lw)\n",
    "#     jn_plt.set_xlim((0,xn_vec_sim[-1]))\n",
    "#     jn_plt.set_ylim((0, 1))\n",
    "    jn_plt.set_xlabel('x in Anode',fontsize=fs)\n",
    "    jn_plt.set_ylabel(r'$j^{-}_{n}(x,t)$',fontsize=fs)\n",
    "    jn_plt.tick_params(labelsize=fs)\n",
    "\n",
    "    jp_plt.plot(xp_vec_sim,jp_sim_[:,tt],LineWidth=lw)\n",
    "#     jp_plt.set_xlim((0,xp_vec_sim[-1]))\n",
    "#     jp_plt.set_ylim((0, 1))\n",
    "    jp_plt.set_xlabel('x in Cathode',fontsize=fs)\n",
    "    jp_plt.set_ylabel(r'$j^{+}_{n}(x,t)$',fontsize=fs)\n",
    "    jp_plt.tick_params(labelsize=fs)\n",
    "    \n",
    "    phie_plt.plot(x_vec_phie,phi_e_sim_[:,tt],LineWidth=lw)\n",
    "#     phie_plt.set_xlim((0,x_vec_phie[-1]))\n",
    "#     phie_plt.set_ylim((0, 0.2))\n",
    "    phie_plt.set_xlabel('x',fontsize=fs)\n",
    "    phie_plt.set_ylabel(r'$\\phi_{e}(x,t)$',fontsize=fs)\n",
    "    phie_plt.tick_params(labelsize=fs)\n",
    "    \n",
    "    etasLn_plt.plot(time_vec[:tt]/60,etasLn_sim_[:tt],LineWidth=lw)\n",
    "#     etasLn_plt.set_ylim((0,0.15))\n",
    "    etasLn_plt.set_xlim((0,time_vec[-1]/60))\n",
    "    etasLn_plt.set_xlabel('Time [min]',fontsize=fs)\n",
    "    etasLn_plt.set_ylabel(r'$\\eta_{sr}(L^{-},t)$ [V]',fontsize=fs)\n",
    "    etasLn_plt.tick_params(labelsize=fs)\n",
    "    \n",
    "#     ipdb.set_trace()\n",
    "\n",
    "    clear_output(wait=True)\n",
    "    display(fig)\n",
    "\n",
    "clear_output(wait=True)\n",
    "\n"
   ]
  },
  {
   "cell_type": "code",
   "execution_count": null,
   "metadata": {},
   "outputs": [],
   "source": []
  },
  {
   "cell_type": "code",
   "execution_count": null,
   "metadata": {},
   "outputs": [],
   "source": []
  }
 ],
 "metadata": {
  "kernelspec": {
   "display_name": "Python 3",
   "language": "python",
   "name": "python3"
  },
  "language_info": {
   "codemirror_mode": {
    "name": "ipython",
    "version": 3
   },
   "file_extension": ".py",
   "mimetype": "text/x-python",
   "name": "python",
   "nbconvert_exporter": "python",
   "pygments_lexer": "ipython3",
   "version": "3.6.10"
  }
 },
 "nbformat": 4,
 "nbformat_minor": 2
}
