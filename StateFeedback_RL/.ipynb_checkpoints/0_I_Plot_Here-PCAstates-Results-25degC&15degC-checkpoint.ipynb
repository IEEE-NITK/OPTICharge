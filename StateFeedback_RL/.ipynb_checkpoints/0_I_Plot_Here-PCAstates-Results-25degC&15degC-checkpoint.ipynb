{
 "cells": [
  {
   "cell_type": "markdown",
   "metadata": {},
   "source": [
    "## Results"
   ]
  },
  {
   "cell_type": "code",
   "execution_count": null,
   "metadata": {},
   "outputs": [],
   "source": [
    "import statistics\n",
    "import pickle\n",
    "import matplotlib.pyplot as plt\n",
    "import numpy as np\n",
    "\n",
    "from settings_file import *\n"
   ]
  },
  {
   "cell_type": "code",
   "execution_count": null,
   "metadata": {},
   "outputs": [],
   "source": [
    "eval_test0 = np.load('results/testing_results/training0/eval.npy')\n",
    "eval_test1 = np.load('results/testing_results/training1/eval.npy')\n",
    "eval_test2 = np.load('results/testing_results/training2/eval.npy')\n",
    "eval_test3 = np.load('results/testing_results/training3/eval.npy')\n",
    "eval_test4 = np.load('results/testing_results/training4/eval.npy')\n",
    "\n",
    "rwd_idx = 0\n",
    "temp_idx = 1\n",
    "etas_idx = 2\n",
    "chgT_idx = 3"
   ]
  },
  {
   "cell_type": "markdown",
   "metadata": {},
   "source": [
    "## 1. Testing performance"
   ]
  },
  {
   "cell_type": "code",
   "execution_count": null,
   "metadata": {},
   "outputs": [],
   "source": [
    "testing_rwd = np.stack((eval_test0[:,rwd_idx],\n",
    "                        eval_test1[:,rwd_idx],\n",
    "                        eval_test2[:,rwd_idx],\n",
    "                        eval_test3[:,rwd_idx],\n",
    "                        eval_test4[:,rwd_idx]))\n",
    "episodes_vec = np.arange(0,3010,10)"
   ]
  },
  {
   "cell_type": "code",
   "execution_count": null,
   "metadata": {},
   "outputs": [],
   "source": [
    "save_fig = True\n",
    "\n",
    "labels = 'PCA states feedback'\n",
    "results = testing_rwd\n",
    "colors = plt.cm.get_cmap('tab20', len(labels)+1)\n",
    "i = 0\n",
    "fig, ax1 = plt.subplots(figsize=(16,9))\n",
    "ax1.set_facecolor(\"white\")\n",
    "ax1.grid(which='major',axis='both', linestyle='-', color='k', linewidth=0.1)\n",
    "\n",
    "epi_len = episodes_vec.shape[0]\n",
    "\n",
    "plt.plot(episodes_vec, np.mean(results[:,:epi_len],0), color=colors(i), linewidth=4, label=labels)\n",
    "plt.xlim((0,episodes_vec[-1]))\n",
    "plt.fill_between(episodes_vec, np.min(results[:,:epi_len],0), np.max(results[:,:epi_len],0), alpha=0.25, color=colors(i))\n",
    "\n",
    "# plt.title(\"Testing Peformance\", fontsize=25, fontweight=\"bold\")\n",
    "plt.ylabel('Cumulative Return [-]', fontsize=30)\n",
    "plt.xlabel('Episode Number', fontsize=30)\n",
    "plt.tick_params(labelsize=30)\n",
    "plt.legend(fontsize=30,loc='lower right')\n",
    "\n",
    "last_mean_value = np.round(np.mean(results[:,-1]),decimals=2)\n",
    "\n",
    "plt.plot(episodes_vec, last_mean_value*np.ones(epi_len), 'k-.', linewidth=3)\n",
    "plt.text(2600, -7, str(last_mean_value), fontsize=30)\n",
    "\n",
    "if save_fig:\n",
    "    plt.savefig('Training_PCA_25degC_LearningCurve.pdf', format='pdf')\n"
   ]
  },
  {
   "cell_type": "markdown",
   "metadata": {},
   "source": [
    "## 2. Temperature Constraint"
   ]
  },
  {
   "cell_type": "code",
   "execution_count": null,
   "metadata": {},
   "outputs": [],
   "source": [
    "testing_temp_vio = np.stack((eval_test0[:,temp_idx],\n",
    "                        eval_test1[:,temp_idx],\n",
    "                        eval_test2[:,temp_idx],\n",
    "                        eval_test3[:,temp_idx],\n",
    "                            eval_test4[:,temp_idx]))\n",
    "episodes_vec = np.arange(0,3010,10)"
   ]
  },
  {
   "cell_type": "code",
   "execution_count": null,
   "metadata": {},
   "outputs": [],
   "source": [
    "save_fig = True\n",
    "\n",
    "labels = 'PCA states feedback'\n",
    "results = testing_temp_vio - control_settings['constraints']['temperature']['max']\n",
    "colors = plt.cm.get_cmap('tab20', len(labels)+1)\n",
    "i = 0\n",
    "fig, ax1 = plt.subplots(figsize=(16,9))\n",
    "ax1.set_facecolor(\"white\")\n",
    "ax1.grid(which='major',axis='both', linestyle='-', color='k', linewidth=0.1)\n",
    "\n",
    "epi_len = episodes_vec.shape[0]\n",
    "\n",
    "plt.plot(episodes_vec, np.mean(results[:,:epi_len],0), color=colors(i), linewidth=4, label=labels)\n",
    "plt.xlim((0,episodes_vec[-1]))\n",
    "plt.fill_between(episodes_vec, np.min(results[:,:epi_len],0), np.max(results[:,:epi_len],0), alpha=0.25, color=colors(i))\n",
    "\n",
    "# plt.title(\"Temperature Constraint Violation\", fontsize=25, fontweight=\"bold\")\n",
    "plt.ylabel('Temperature Violation [$^\\circ$C]', fontsize=30)\n",
    "plt.xlabel('Episode Number', fontsize=30)\n",
    "plt.tick_params(labelsize=30)\n",
    "plt.legend(fontsize=30,loc='lower right')\n",
    "\n",
    "if save_fig:\n",
    "    plt.savefig('Training_PCA_25degC_Temp_Violation.pdf', format='pdf')\n"
   ]
  },
  {
   "cell_type": "markdown",
   "metadata": {},
   "source": [
    "## 3. EtasLN Constraint\n"
   ]
  },
  {
   "cell_type": "code",
   "execution_count": null,
   "metadata": {},
   "outputs": [],
   "source": [
    "testing_etas_vio = np.stack((eval_test0[:,etas_idx],\n",
    "                        eval_test1[:,etas_idx],\n",
    "                        eval_test2[:,etas_idx],\n",
    "                        eval_test3[:,etas_idx],\n",
    "                            eval_test4[:,etas_idx]))\n",
    "episodes_vec = np.arange(0,3010,10)"
   ]
  },
  {
   "cell_type": "code",
   "execution_count": null,
   "metadata": {},
   "outputs": [],
   "source": [
    "save_fig = True\n",
    "\n",
    "labels = 'PCA states feedback'\n",
    "results = control_settings['constraints']['etasLn']['min'] - testing_etas_vio\n",
    "colors = plt.cm.get_cmap('tab20', len(labels)+1)\n",
    "i = 0\n",
    "fig, ax1 = plt.subplots(figsize=(16,9))\n",
    "ax1.set_facecolor(\"white\")\n",
    "ax1.grid(which='major',axis='both', linestyle='-', color='k', linewidth=0.1)\n",
    "\n",
    "epi_len = episodes_vec.shape[0]\n",
    "\n",
    "plt.plot(episodes_vec, np.mean(results[:,:epi_len],0), color=colors(i), linewidth=4, label=labels)\n",
    "plt.xlim((0,episodes_vec[-1]))\n",
    "plt.fill_between(episodes_vec, np.min(results[:,:epi_len],0), np.max(results[:,:epi_len],0), alpha=0.25, color=colors(i))\n",
    "\n",
    "# plt.title(r\"$\\eta_{sr}$ Constraint Violation\", fontsize=25, fontweight=\"bold\")\n",
    "plt.ylabel(r'$\\eta_{sr}$ Violation [V]', fontsize=30)\n",
    "plt.xlabel('Episode Number', fontsize=30)\n",
    "plt.tick_params(labelsize=30)\n",
    "plt.legend(fontsize=30,loc='lower right')\n",
    "\n",
    "if save_fig:\n",
    "    plt.savefig('Training_PCA_25degC_Etas_Violation.pdf', format='pdf')\n"
   ]
  },
  {
   "cell_type": "markdown",
   "metadata": {},
   "source": [
    "## 4. Charging Time"
   ]
  },
  {
   "cell_type": "code",
   "execution_count": null,
   "metadata": {},
   "outputs": [],
   "source": [
    "testing_chg_time = np.stack((eval_test0[:,chgT_idx],\n",
    "                        eval_test1[:,chgT_idx],\n",
    "                        eval_test2[:,chgT_idx],\n",
    "                        eval_test3[:,chgT_idx],\n",
    "                            eval_test4[:,chgT_idx]))\n",
    "episodes_vec = np.arange(0,3010,10)"
   ]
  },
  {
   "cell_type": "code",
   "execution_count": null,
   "metadata": {},
   "outputs": [],
   "source": [
    "save_fig = True\n",
    "\n",
    "labels = 'PCA states feedback'\n",
    "results = testing_chg_time * settings['sample_time'] / 60 # converted to minutes\n",
    "colors = plt.cm.get_cmap('tab20', len(labels)+1)\n",
    "i = 0\n",
    "fig, ax1 = plt.subplots(figsize=(16,9))\n",
    "ax1.set_facecolor(\"white\")\n",
    "ax1.grid(which='major',axis='both', linestyle='-', color='k', linewidth=0.1)\n",
    "\n",
    "epi_len = episodes_vec.shape[0]\n",
    "\n",
    "plt.plot(episodes_vec, np.mean(results[:,:epi_len],0), color=colors(i), linewidth=4, label=labels)\n",
    "plt.xlim((0,episodes_vec[-1]))\n",
    "plt.fill_between(episodes_vec, np.min(results[:,:epi_len],0), np.max(results[:,:epi_len],0), alpha=0.25, color=colors(i))\n",
    "last_mean_value = np.round(np.mean(results[:,-1]),decimals=2)\n",
    "plt.plot(episodes_vec, last_mean_value*np.ones(epi_len), 'k-.', linewidth=3)\n",
    "plt.text(2600, 1, str(last_mean_value), fontsize=30)\n",
    "# plt.title(r\"Charging Time\", fontsize=25, fontweight=\"bold\")\n",
    "plt.ylabel(r'Time [min]', fontsize=30)\n",
    "plt.xlabel('Episode Number', fontsize=30)\n",
    "plt.tick_params(labelsize=30)\n",
    "plt.legend(fontsize=30,loc='upper right')\n",
    "\n",
    "\n",
    "if save_fig:\n",
    "    plt.savefig('Training_PCA_25degC_ChgTime.pdf', format='pdf')\n"
   ]
  },
  {
   "cell_type": "markdown",
   "metadata": {},
   "source": [
    "## 5. Validation"
   ]
  },
  {
   "cell_type": "code",
   "execution_count": null,
   "metadata": {},
   "outputs": [],
   "source": [
    "import gym\n",
    "import torch\n",
    "\n",
    "from ddpg_agent import Agent\n",
    "import ipdb\n",
    "\n",
    "import logz\n",
    "import scipy.signal\n",
    "import gym\n",
    "\n",
    "# import gym_dfn\n",
    "from gym_dfn.envs.dfn_env import *\n",
    "\n",
    "from gym_dfn.envs.ParamFile_LGC import p\n",
    "\n",
    "import statistics\n",
    "import pickle\n",
    "import os\n",
    "from settings_file import*\n",
    "\n",
    "#------------ For PCA \n",
    "from numpy import linalg as LA\n",
    "import scipy.io as sio\n",
    "data = sio.loadmat('PCA_DFN_info.mat')\n",
    "data_mu = data['time_states_mu']\n",
    "data_std = data['time_states_std']\n",
    "data_PCA = data['PCA_trans']"
   ]
  },
  {
   "cell_type": "code",
   "execution_count": null,
   "metadata": {},
   "outputs": [],
   "source": [
    "def normalize_states(state):\n",
    "\n",
    "    csn_max = 3.0542e+04\n",
    "    csp_max = 4.9521e+04\n",
    "    ce0 = 1.0e3\n",
    "    T_amb = 298.15\n",
    "\n",
    "    N_cavgn = p['Nxn']-1\n",
    "    N_cavgp = p['Nxp']-1\n",
    "    N_cex = p['Nxn']-1 + p['Nxs']-1 + p['Nxp']-1\n",
    "\n",
    "    # PCA Normalize the states.\n",
    "    c_avgn_concentration = state[:N_cavgn]\n",
    "    c_avgp_concentration = state[N_cavgn : (N_cavgn + N_cavgp)]\n",
    "    c_ex_concentration = state[(N_cavgn+N_cavgp):(N_cavgn+N_cavgp+N_cex)]\n",
    "\n",
    "    time_states = np.concatenate((c_avgn_concentration, c_avgp_concentration, c_ex_concentration), axis=0)\n",
    "    time_states_arr = time_states.reshape([time_states.shape[0],1])\n",
    "    standard_states_arr = (time_states_arr - data_mu)/data_std\n",
    "    pca_states_arr = np.dot(data_PCA, standard_states_arr)\n",
    "    pca_states_arr_nmz = pca_states_arr / LA.norm(pca_states_arr,2)\n",
    "\n",
    "    pca_states_nmz = pca_states_arr_nmz.reshape([pca_states_arr_nmz.shape[0],]) # arr -> list\n",
    "\n",
    "\n",
    "    # # Concatenate\n",
    "    Temp = (state[-1] - 298 - 10) / (320-298)\n",
    "    Temp = np.array([Temp])\n",
    "\n",
    "    second_part = np.concatenate((pca_states_nmz,Temp),axis=0)\n",
    "\n",
    "    norm_state = second_part\n",
    "\n",
    "    return norm_state"
   ]
  },
  {
   "cell_type": "code",
   "execution_count": null,
   "metadata": {},
   "outputs": [],
   "source": [
    "def denormalize_input(input_value, min_OUTPUT_value, max_OUTPUT_value):\n",
    "    \n",
    "    output_value=(1+input_value)*(max_OUTPUT_value-min_OUTPUT_value)/2+min_OUTPUT_value\n",
    "    \n",
    "    return output_value"
   ]
  },
  {
   "cell_type": "code",
   "execution_count": null,
   "metadata": {},
   "outputs": [],
   "source": [
    "\n",
    "# Policy\n",
    "agent = Agent(state_size=5, action_size=1, random_seed=0)    \n",
    "\n",
    "# Load\n",
    "# with open(\"results/training_results/checkpoints_list.txt\", \"rb\") as fp:   # Unpickling\n",
    "#     checkpoints_list = pickle.load(fp)\n",
    "# returns_list_at_the_end_of_training_without_exploration=[]\n",
    "\n",
    "# Choose the policy, which episode's policy do you want to choose for validation?\n",
    "# i_episode=checkpoints_list[-1]  # the latest\n",
    "i_episode=3000\n",
    "\n",
    "i_training=1 # seed number or ID\n",
    "\n",
    "agent.actor_local.load_state_dict(torch.load('results/training_results/training'+str(i_training)+'/episode'+str(i_episode)+'/checkpoint_actor_'+str(i_episode)+'.pth',map_location='cpu'))\n",
    "agent.critic_local.load_state_dict(torch.load('results/training_results/training'+str(i_training)+'/episode'+str(i_episode)+'/checkpoint_critic_'+str(i_episode)+'.pth',map_location='cpu'))\n",
    "\n"
   ]
  },
  {
   "cell_type": "code",
   "execution_count": null,
   "metadata": {},
   "outputs": [],
   "source": [
    "# Environment\n",
    "# settings['sample_time']=1\n",
    "env = DFN(sett=settings, cont_sett=control_settings)\n",
    "\n",
    "init_V = 3.5\n",
    "init_T = 300\n",
    "state = env.reset(init_v = init_V, init_t=init_T)\n",
    "norm_state = normalize_states(state)\n",
    "\n",
    "ACTION_VEC=[]\n",
    "SOC_VEC=[]\n",
    "T_VEC=[]\n",
    "VOLTAGE_VEC=[]\n",
    "RETURN_VALUE=0\n",
    "TIME_VEC = []\n",
    "done=False\n",
    "\n",
    "cex_sim = []\n",
    "etasLn_sim = []\n",
    "cssn_sim = []\n",
    "cssp_sim = []\n",
    "cavgn_sim = []\n",
    "cavgp_sim = []\n",
    "nLis_sim = []\n",
    "\n",
    "phi_s_n_sim = []\n",
    "phi_s_p_sim = []\n",
    "ien_sim = []\n",
    "iep_sim = []\n",
    "jn_sim =[]\n",
    "jp_sim = []\n",
    "phi_e_sim = []\n",
    "\n",
    "\n",
    "\n",
    "tt=0\n",
    "TIME_VEC.append(tt)\n",
    "\n",
    "for t in range(10000):\n",
    "\n",
    "    # the exploration noise has been disabled\n",
    "    norm_action = agent.act(norm_state, add_noise=False)\n",
    "#     ipdb.set_trace()\n",
    "    \n",
    "\n",
    "    applied_action=denormalize_input(norm_action,\n",
    "                                             env.action_space.low[0],\n",
    "                                             env.action_space.high[0])    \n",
    "    applied_action=applied_action\n",
    "    next_state,reward,done,b=env.step(applied_action)\n",
    "    norm_next_state=normalize_states(next_state)\n",
    "    RETURN_VALUE+=reward\n",
    "    \n",
    "    #save the simulation vectors\n",
    "    ACTION_VEC.append(applied_action[0])\n",
    "    SOC_VEC.append(env.info['SOCn'])\n",
    "    T_VEC.append(env.info['T'])\n",
    "    \n",
    "    #save the simulation info\n",
    "    cex_sim.append(env.c_ex)\n",
    "    etasLn_sim.append(env.etasLn)\n",
    "    cssn_sim.append(env.cssn)\n",
    "    cssp_sim.append(env.cssp)\n",
    "    cavgn_sim.append(env.c_avgn)\n",
    "    cavgp_sim.append(env.c_avgp)\n",
    "    nLis_sim.append(env.nLis)\n",
    "    \n",
    "    # save the algebraic states info.\n",
    "    phi_s_n_sim.append(env.out_phisn)\n",
    "    phi_s_p_sim.append(env.out_phisp)\n",
    "    ien_sim.append(env.out_ien)\n",
    "    iep_sim.append(env.out_iep)\n",
    "    jn_sim.append(env.out_jn)\n",
    "    jp_sim.append(env.out_jp)\n",
    "    phi_e_sim.append(env.out_phie)\n",
    "\n",
    "    tt += env.dt\n",
    "    TIME_VEC.append(tt)\n",
    "    VOLTAGE_VEC.append(env.info['V'])\n",
    "    norm_state=norm_next_state\n",
    "    \n",
    "#     if done or RETURN_VALUE<control_settings['max_negative_score']:\n",
    "#         break\n",
    "\n",
    "    if done:\n",
    "        break"
   ]
  },
  {
   "cell_type": "code",
   "execution_count": null,
   "metadata": {},
   "outputs": [],
   "source": [
    "RETURN_VALUE\n"
   ]
  },
  {
   "cell_type": "code",
   "execution_count": null,
   "metadata": {},
   "outputs": [],
   "source": [
    "fig, ax1 = plt.subplots(figsize=(16,9))\n",
    "ax1.set_facecolor(\"white\")\n",
    "ax1.grid(which='major', axis='both', linestyle='-', color='k', linewidth=0.1)\n",
    "\n",
    "\n",
    "plt.plot(np.array(TIME_VEC[:-1])/60,np.array(ACTION_VEC))\n",
    "plt.title(\"Action\", fontsize=25, fontweight=\"bold\")\n",
    "plt.ylabel(r'Current [$A$]', fontsize=30)\n",
    "plt.xlabel('Time [Min]', fontsize=30)\n",
    "plt.tick_params(labelsize=30)\n"
   ]
  },
  {
   "cell_type": "code",
   "execution_count": null,
   "metadata": {},
   "outputs": [],
   "source": [
    "TIME_VEC[-1]"
   ]
  },
  {
   "cell_type": "code",
   "execution_count": null,
   "metadata": {},
   "outputs": [],
   "source": [
    "fig, ax1 = plt.subplots(figsize=(16,9))\n",
    "ax1.set_facecolor(\"white\")\n",
    "ax1.grid(which='major', axis='both', linestyle='-', color='k', linewidth=0.1)\n",
    "\n",
    "\n",
    "plt.plot(np.array(TIME_VEC[:-1])/60,np.array(VOLTAGE_VEC), LineWidth=3)\n",
    "# plt.plot(np.array(TIME_VEC[:-1])/60,4.2*np.ones([len(VOLTAGE_VEC),]),'k--', LineWidth=3)\n",
    "plt.title(\"Voltage\", fontsize=25, fontweight=\"bold\")\n",
    "plt.ylabel('Voltage [$V$]', fontsize=30)\n",
    "plt.xlabel('Time', fontsize=30)\n",
    "plt.tick_params(labelsize=30)"
   ]
  },
  {
   "cell_type": "code",
   "execution_count": null,
   "metadata": {},
   "outputs": [],
   "source": [
    "fig, ax1 = plt.subplots(figsize=(16,9))\n",
    "ax1.set_facecolor(\"white\")\n",
    "ax1.grid(which='major', axis='both', linestyle='-', color='k', linewidth=0.1)\n",
    "\n",
    "temp_th = control_settings['constraints']['temperature']['max']\n",
    "\n",
    "plt.plot(np.array(TIME_VEC[:-1])/60,np.array(T_VEC)-273, LineWidth=3)\n",
    "plt.plot(np.array(TIME_VEC[:-1])/60,(temp_th-273)*np.ones([len(T_VEC),]),'k--', LineWidth=3)\n",
    "plt.title(\"Temperature\", fontsize=25, fontweight=\"bold\")\n",
    "plt.ylabel(r'Temperature [$^{\\circ}$C]', fontsize=30)\n",
    "plt.xlabel('Time', fontsize=30)\n",
    "plt.tick_params(labelsize=30)"
   ]
  },
  {
   "cell_type": "code",
   "execution_count": null,
   "metadata": {},
   "outputs": [],
   "source": [
    "fig, ax1 = plt.subplots(figsize=(16,9))\n",
    "ax1.set_facecolor(\"white\")\n",
    "ax1.grid(which='major', axis='both', linestyle='-', color='k', linewidth=0.1)\n",
    "\n",
    "\n",
    "plt.plot(np.array(TIME_VEC[:-1])/60,np.array(SOC_VEC), LineWidth=3)\n",
    "plt.plot(np.array(TIME_VEC[:-1])/60,0.8*np.ones([len(SOC_VEC),]),'k--', LineWidth=3)\n",
    "plt.title(\"SOC\", fontsize=25, fontweight=\"bold\")\n",
    "plt.ylabel('SOC [-]', fontsize=30)\n",
    "plt.xlabel('Time [min]', fontsize=30)\n",
    "plt.tick_params(labelsize=30)\n"
   ]
  },
  {
   "cell_type": "code",
   "execution_count": null,
   "metadata": {},
   "outputs": [],
   "source": [
    "fig, ax1 = plt.subplots(figsize=(16,9))\n",
    "ax1.set_facecolor(\"white\")\n",
    "ax1.grid(which='major', axis='both', linestyle='-', color='k', linewidth=0.1)\n",
    "\n",
    "etasLn_th = control_settings['constraints']['etasLn']['min']\n",
    "plt.plot(np.array(TIME_VEC[:-1])/60,np.array(etasLn_sim), LineWidth=3)\n",
    "plt.plot(np.array(TIME_VEC[:-1])/60,etasLn_th*np.ones([len(SOC_VEC),]),'k--', LineWidth=3)\n",
    "plt.title(\"etasLn\", fontsize=25, fontweight=\"bold\")\n",
    "plt.ylim((-0.1, 0.12))\n",
    "plt.ylabel('etasLn [-]', fontsize=30)\n",
    "plt.xlabel('Time [min]', fontsize=30)\n",
    "plt.tick_params(labelsize=30)\n"
   ]
  },
  {
   "cell_type": "markdown",
   "metadata": {},
   "source": [
    "### Publication version."
   ]
  },
  {
   "cell_type": "code",
   "execution_count": null,
   "metadata": {},
   "outputs": [],
   "source": [
    "import scipy.io as sio\n",
    "MRG_data = sio.loadmat('MRG_25degC_ambient_60secWindow_result.mat')"
   ]
  },
  {
   "cell_type": "code",
   "execution_count": null,
   "metadata": {},
   "outputs": [],
   "source": [
    "MRG_time = MRG_data['Time_base'][0]\n",
    "MRG_input = MRG_data['Action_base'][0]\n",
    "MRG_SOC = MRG_data['SOC_base'][0]\n",
    "MRG_volt = MRG_data['Volt_base'][0]\n",
    "MRG_temp = MRG_data['Temp_base']\n",
    "MRG_etasLN = MRG_data['etasLn_base']\n"
   ]
  },
  {
   "cell_type": "code",
   "execution_count": null,
   "metadata": {},
   "outputs": [],
   "source": [
    "fs = 30\n",
    "lw = 4\n",
    "\n",
    "OneC = 58.407\n",
    "save_fig = True\n",
    "\n",
    "fig = plt.figure(figsize=(16, 18))\n",
    "grid = plt.GridSpec(5, 1, hspace=0.9, wspace=0.5)\n",
    "cur_plt = fig.add_subplot(grid[0, 0])\n",
    "soc_plt = fig.add_subplot(grid[1, 0])\n",
    "volt_plt = fig.add_subplot(grid[2,0])\n",
    "temp_plt = fig.add_subplot(grid[3,0])\n",
    "etasLN_plt = fig.add_subplot(grid[4,0])\n",
    "\n",
    "cur_plt.plot(np.array(TIME_VEC[:-1])/60,np.array(ACTION_VEC)/OneC, label='RL',LineWidth=lw)\n",
    "cur_plt.plot(MRG_time[:-1]/60,MRG_input/OneC,'r', label='MRG', LineWidth=lw)\n",
    "cur_plt.set_ylabel(r'Cur. [C]', fontsize=fs)\n",
    "# cur_plt.set_xlabel('Time [Min]', fontsize=fs)\n",
    "cur_plt.set_xlim((0,TIME_VEC[-1]/60))\n",
    "cur_plt.tick_params(labelsize=fs)\n",
    "cur_plt.legend(fontsize=20,loc='lower right')\n",
    "cur_plt.locator_params(nbins=4)\n",
    "\n",
    "soc_plt.plot(np.array(TIME_VEC[:-1])/60,np.array(SOC_VEC), label='AC', LineWidth=lw)\n",
    "soc_plt.plot(np.array(TIME_VEC[:])/60,0.8*np.ones([len(TIME_VEC),]),'k--', LineWidth=lw)\n",
    "soc_plt.plot(MRG_time[:-1]/60, MRG_SOC, 'r', label='MRG', LineWidth=lw)\n",
    "soc_plt.set_ylabel('SOC. [-]', fontsize=fs)\n",
    "soc_plt.set_xlim((0,TIME_VEC[-1]/60))\n",
    "# soc_plt.set_xlabel('Time [min]', fontsize=fs)\n",
    "soc_plt.tick_params(labelsize=fs)\n",
    "soc_plt.locator_params(nbins=4)\n",
    "\n",
    "\n",
    "volt_plt.plot(np.array(TIME_VEC[:-1])/60,np.array(VOLTAGE_VEC), LineWidth=lw)\n",
    "volt_plt.plot(MRG_time[:-1]/60,MRG_volt,'r',label='MRG',LineWidth=lw)\n",
    "volt_plt.set_ylabel('Volt. [$V$]', fontsize=fs)\n",
    "# volt_plt.set_xlabel('Time', fontsize=fs)\n",
    "volt_plt.set_xlim((0,TIME_VEC[-1]/60))\n",
    "volt_plt.tick_params(labelsize=fs)\n",
    "volt_plt.locator_params(nbins=4)\n",
    "\n",
    "\n",
    "temp_th = control_settings['constraints']['temperature']['max']\n",
    "temp_plt.plot(np.array(TIME_VEC[:-1])/60,np.array(T_VEC)-273, LineWidth=3)\n",
    "temp_plt.plot(np.array(TIME_VEC[:])/60,(temp_th-273)*np.ones([len(TIME_VEC),]),'k--', LineWidth=lw)\n",
    "temp_plt.plot(MRG_time[:-1]/60, MRG_temp-273, 'r', label='MRG', LineWidth=lw)\n",
    "temp_plt.set_ylabel(r'Temp. [$^{\\circ}$C]', fontsize=fs)\n",
    "temp_plt.set_xlim((0,TIME_VEC[-1]/60))\n",
    "# temp_plt.set_xlabel('Time', fontsize=fs)\n",
    "temp_plt.tick_params(labelsize=fs)\n",
    "temp_plt.locator_params(nbins=4)\n",
    "\n",
    "etasLn_th = control_settings['constraints']['etasLn']['min']\n",
    "etasLN_plt.plot(np.array(TIME_VEC[:-1])/60,np.array(etasLn_sim), LineWidth=lw)\n",
    "etasLN_plt.plot(MRG_time[:-1]/60, MRG_etasLN, 'r', label='MRG', LineWidth=lw)\n",
    "etasLN_plt.plot(np.array(TIME_VEC[:])/60,etasLn_th*np.ones([len(TIME_VEC),]),'k--', LineWidth=lw)\n",
    "etasLN_plt.set_xlim((0,TIME_VEC[-1]/60))\n",
    "etasLN_plt.set_ylim((-0.1, 0.12))\n",
    "etasLN_plt.set_ylabel(r'$\\eta_{sr}$ [V]', fontsize=fs)\n",
    "etasLN_plt.set_xlabel('Time [min]', fontsize=fs)\n",
    "etasLN_plt.tick_params(labelsize=fs)\n",
    "etasLN_plt.locator_params(nbins=4)\n",
    "\n",
    "if save_fig:\n",
    "    plt.savefig('RL_MRG_25degC_Comparison.pdf', format='pdf')\n",
    "\n"
   ]
  },
  {
   "cell_type": "markdown",
   "metadata": {},
   "source": [
    "Save Figure"
   ]
  },
  {
   "cell_type": "code",
   "execution_count": null,
   "metadata": {},
   "outputs": [],
   "source": []
  }
 ],
 "metadata": {
  "kernelspec": {
   "display_name": "Python 3",
   "language": "python",
   "name": "python3"
  },
  "language_info": {
   "codemirror_mode": {
    "name": "ipython",
    "version": 3
   },
   "file_extension": ".py",
   "mimetype": "text/x-python",
   "name": "python",
   "nbconvert_exporter": "python",
   "pygments_lexer": "ipython3",
   "version": "3.7.3"
  }
 },
 "nbformat": 4,
 "nbformat_minor": 2
}
