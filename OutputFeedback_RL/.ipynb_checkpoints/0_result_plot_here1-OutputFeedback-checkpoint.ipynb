{
 "cells": [
  {
   "cell_type": "markdown",
   "metadata": {},
   "source": [
    "# Result plot\n",
    "\n",
    "2020.04.15\n",
    "\n",
    "This notebook shows the performance of RL-policy after training as well as statistics."
   ]
  },
  {
   "cell_type": "code",
   "execution_count": 1,
   "metadata": {},
   "outputs": [],
   "source": [
    "import statistics\n",
    "import pickle\n",
    "import matplotlib.pyplot as plt\n",
    "import numpy as np"
   ]
  },
  {
   "cell_type": "code",
   "execution_count": 2,
   "metadata": {},
   "outputs": [
    {
     "ename": "FileNotFoundError",
     "evalue": "[Errno 2] No such file or directory: 'results/training_results/checkpoints_list.txt'",
     "output_type": "error",
     "traceback": [
      "\u001b[0;31m---------------------------------------------------------------------------\u001b[0m",
      "\u001b[0;31mFileNotFoundError\u001b[0m                         Traceback (most recent call last)",
      "\u001b[0;32m<ipython-input-2-2157eea97162>\u001b[0m in \u001b[0;36m<module>\u001b[0;34m\u001b[0m\n\u001b[1;32m      2\u001b[0m \u001b[0;34m\u001b[0m\u001b[0m\n\u001b[1;32m      3\u001b[0m \u001b[0;31m## Checkpoint list\u001b[0m\u001b[0;34m\u001b[0m\u001b[0;34m\u001b[0m\u001b[0;34m\u001b[0m\u001b[0m\n\u001b[0;32m----> 4\u001b[0;31m \u001b[0;32mwith\u001b[0m \u001b[0mopen\u001b[0m\u001b[0;34m(\u001b[0m\u001b[0;34m\"results/training_results/checkpoints_list.txt\"\u001b[0m\u001b[0;34m,\u001b[0m \u001b[0;34m\"rb\"\u001b[0m\u001b[0;34m)\u001b[0m \u001b[0;32mas\u001b[0m \u001b[0mfp\u001b[0m\u001b[0;34m:\u001b[0m\u001b[0;34m\u001b[0m\u001b[0;34m\u001b[0m\u001b[0m\n\u001b[0m\u001b[1;32m      5\u001b[0m     \u001b[0mcheckpoints_list\u001b[0m \u001b[0;34m=\u001b[0m \u001b[0mpickle\u001b[0m\u001b[0;34m.\u001b[0m\u001b[0mload\u001b[0m\u001b[0;34m(\u001b[0m\u001b[0mfp\u001b[0m\u001b[0;34m)\u001b[0m\u001b[0;34m\u001b[0m\u001b[0;34m\u001b[0m\u001b[0m\n\u001b[1;32m      6\u001b[0m \u001b[0;34m\u001b[0m\u001b[0m\n",
      "\u001b[0;31mFileNotFoundError\u001b[0m: [Errno 2] No such file or directory: 'results/training_results/checkpoints_list.txt'"
     ]
    }
   ],
   "source": [
    "# Load data\n",
    "\n",
    "## Checkpoint list\n",
    "with open(\"results/training_results/checkpoints_list.txt\", \"rb\") as fp:\n",
    "    checkpoints_list = pickle.load(fp)\n",
    "\n",
    "## Training\n",
    "with open(\"results/training_results/total_returns_list_with_exploration.txt\", \"rb\") as fp:\n",
    "    total_returns_list_with_exploration = pickle.load(fp)\n",
    "\n",
    "## Testing rewards\n",
    "with open(\"results/testing_results/total_checkpoints_returns_list_without_exploration.txt\",\"rb\") as fp:\n",
    "    total_checkpoints_returns_list_without_exploration = pickle.load(fp)\n",
    "    \n",
    "## Testing penaly (voltage)\n",
    "with open(\"results/testing_results/total_checkpoints_max_voltage_list_without_exploration.txt\", \"rb\") as fp:   #Pickling\n",
    "    total_checkpoints_max_voltage_list_without_exploration = pickle.load(fp)\n",
    "\n",
    "## Testing penalty (temperature)\n",
    "with open(\"results/testing_results/total_checkpoints_max_temperature_list_without_exploration.txt\", \"rb\") as fp:   #Pickling\n",
    "    total_checkpoints_max_temperature_list_without_exploration = pickle.load(fp)\n",
    "\n",
    "## Testing performnace (charging_time)\n",
    "with open(\"results/testing_results/total_checkpoints_charging_time_list_without_exploration.txt\", \"rb\") as fp:   #Pickling\n",
    "    total_checkpoints_charging_time_list_without_exploration = pickle.load(fp)\n",
    "    "
   ]
  },
  {
   "cell_type": "markdown",
   "metadata": {},
   "source": [
    "## Data Processing"
   ]
  },
  {
   "cell_type": "code",
   "execution_count": null,
   "metadata": {},
   "outputs": [],
   "source": [
    "import csv\n",
    "\n",
    "check_episode = len(checkpoints_list)\n",
    "repeated = 1 # how many training is repeated with different initial params.\n",
    "num_test = 10 * repeated\n",
    "\n",
    "save_data = np.zeros([num_test,check_episode])\n",
    "\n",
    "for j in range(check_episode):\n",
    "    for i in range(num_test):\n",
    "        save_data[i][j] = total_checkpoints_returns_list_without_exploration[j][i]\n",
    "\n",
    "testing_result_rwd = save_data\n",
    "\n",
    "##################################\n",
    "\n",
    "save_data = np.zeros([num_test,check_episode])\n",
    "\n",
    "for j in range(check_episode):\n",
    "    for i in range(num_test):\n",
    "        save_data[i][j] = total_checkpoints_max_voltage_list_without_exploration[j][i]\n",
    "\n",
    "testing_result_Vpty = save_data\n",
    "\n",
    "\n",
    "##################################\n",
    "\n",
    "save_data = np.zeros([num_test,check_episode])\n",
    "\n",
    "for j in range(check_episode):\n",
    "    for i in range(num_test):\n",
    "        save_data[i][j] = total_checkpoints_max_temperature_list_without_exploration[j][i][0]\n",
    "\n",
    "testing_result_Tpty = save_data\n",
    "\n",
    "\n",
    "##################################\n",
    "\n",
    "with open(\"results/testing_results/total_checkpoints_charging_time_list_without_exploration.txt\", \"rb\") as fp:   #Pickling\n",
    "    total_checkpoints_charging_time_list_without_exploration = pickle.load(fp)\n",
    "\n",
    "save_data = np.zeros([num_test,check_episode])\n",
    "\n",
    "for j in range(check_episode):\n",
    "    for i in range(num_test):\n",
    "        save_data[i][j] = total_checkpoints_charging_time_list_without_exploration[j][i]\n",
    "\n",
    "testing_result_chgTime = save_data\n"
   ]
  },
  {
   "cell_type": "markdown",
   "metadata": {},
   "source": [
    "## Testing Performance"
   ]
  },
  {
   "cell_type": "code",
   "execution_count": null,
   "metadata": {},
   "outputs": [],
   "source": [
    "labels = ['PCA_states']\n",
    "result = testing_result_rwd\n",
    "colors = plt.cm.get_cmap('tab20', len(labels)+1)\n",
    "\n",
    "fig, ax1 = plt.subplots(figsize=(16,9))\n",
    "ax1.set_facecolor(\"white\")\n",
    "ax1.grid(which='major', axis='both', linestyle='-', color='k', linewidth=0.1)\n",
    "\n",
    "plt.plot(checkpoints_list, np.mean(result,0), color=colors(i),linewidth=4, label=labels)\n",
    "plt.xlim((0,checkpoints_list[-1]))\n",
    "plt.ylim((-25,0))\n",
    "plt.fill_between(checkpoints_list, np.min(result,0), np.max(result, 0), alpha=0.25, color=colors(i))\n",
    "# plt.fill_between(checkpoints_list, np.mean(result,0)-1.96*np.std(result,0)/np.sqrt(10), np.mean(result, 0) + 1.96 * np.std(result, 0)/np.sqrt(10), alpha=0.25, color=colors(i))\n",
    "\n",
    "plt.title(\"Testing Peformance\", fontsize=25, fontweight=\"bold\")\n",
    "plt.ylabel('Cumulative Return [-]', fontsize=30)\n",
    "plt.xlabel('Episode Number', fontsize=30)\n",
    "plt.tick_params(labelsize=30)\n",
    "plt.legend(fontsize=30,loc='lower right')"
   ]
  },
  {
   "cell_type": "markdown",
   "metadata": {},
   "source": [
    "## Voltage Constraint"
   ]
  },
  {
   "cell_type": "code",
   "execution_count": null,
   "metadata": {},
   "outputs": [],
   "source": [
    "labels = 'PCA_states'\n",
    "result = testing_result_Vpty - 4.2\n",
    "colors = plt.cm.get_cmap('tab20', len(labels)+1)\n",
    "\n",
    "fig, ax1 = plt.subplots(figsize=(16,9))\n",
    "ax1.set_facecolor(\"white\")\n",
    "ax1.grid(which='major', axis='both', linestyle='-', color='k', linewidth=0.1)\n",
    "\n",
    "plt.plot(checkpoints_list, np.mean(result,0), color=colors(i),linewidth=4, label=labels)\n",
    "plt.xlim((0,checkpoints_list[-1]))\n",
    "plt.fill_between(checkpoints_list, np.min(result,0), np.max(result, 0), alpha=0.25, color=colors(i))\n",
    "# plt.fill_between(checkpoints_list, np.mean(result,0)-1.96*np.std(result,0)/np.sqrt(10), np.mean(result, 0) + 1.96 * np.std(result, 0)/np.sqrt(10), alpha=0.25, color=colors(i))\n",
    "plt.plot(checkpoints_list, np.zeros(len(checkpoints_list)), 'k--', LineWidth=3)\n",
    "plt.title(\"Voltage Constraint Violation\", fontsize=25, fontweight=\"bold\")\n",
    "plt.ylabel('Voltage Violation [V]', fontsize=30)\n",
    "plt.xlabel('Episode Number', fontsize=30)\n",
    "plt.tick_params(labelsize=30)\n",
    "plt.legend(fontsize=30,loc='lower right')"
   ]
  },
  {
   "cell_type": "markdown",
   "metadata": {},
   "source": [
    "## Temperature Constraint"
   ]
  },
  {
   "cell_type": "code",
   "execution_count": null,
   "metadata": {},
   "outputs": [],
   "source": [
    "labels = 'PCA_states'\n",
    "result = testing_result_Tpty - 320\n",
    "colors = plt.cm.get_cmap('tab20', len(labels)+1)\n",
    "\n",
    "fig, ax1 = plt.subplots(figsize=(16,9))\n",
    "ax1.set_facecolor(\"white\")\n",
    "ax1.grid(which='major', axis='both', linestyle='-', color='k', linewidth=0.1)\n",
    "plt.plot(checkpoints_list, np.mean(result,0), color=colors(i),linewidth=4, label=labels)\n",
    "plt.xlim((0,checkpoints_list[-1]))\n",
    "plt.fill_between(checkpoints_list, np.min(result,0), np.max(result, 0), alpha=0.25, color=colors(i))\n",
    "# plt.fill_between(checkpoints_list, np.mean(result,0)-1.96*np.std(result,0)/np.sqrt(10), np.mean(result, 0) + 1.96 * np.std(result, 0)/np.sqrt(10), alpha=0.25, color=colors(i))\n",
    "plt.plot(checkpoints_list, np.zeros(len(checkpoints_list)), 'k--', LineWidth=3)\n",
    "plt.title(\"Temperature Constraint Violation\", fontsize=25, fontweight=\"bold\")\n",
    "plt.ylabel(r'Temperature Violation [$^\\circ$C]', fontsize=30)\n",
    "plt.xlabel('Episode Number', fontsize=30)\n",
    "plt.tick_params(labelsize=30)\n",
    "plt.legend(fontsize=30,loc='lower right')"
   ]
  },
  {
   "cell_type": "markdown",
   "metadata": {},
   "source": [
    "## Charging Time"
   ]
  },
  {
   "cell_type": "code",
   "execution_count": null,
   "metadata": {},
   "outputs": [],
   "source": [
    "labels = 'PCA_states'\n",
    "result = testing_result_chgTime\n",
    "colors = plt.cm.get_cmap('tab20', len(labels)+1)\n",
    "\n",
    "fig, ax1 = plt.subplots(figsize=(16,9))\n",
    "ax1.set_facecolor(\"white\")\n",
    "ax1.grid(which='major', axis='both', linestyle='-', color='k', linewidth=0.1)\n",
    "\n",
    "plt.plot(checkpoints_list, np.mean(result,0), color=colors(i),linewidth=4, label=labels)\n",
    "plt.xlim((0,checkpoints_list[-1]))\n",
    "plt.fill_between(checkpoints_list, np.mean(result,0)-1.96*np.std(result,0)/np.sqrt(10), np.mean(result, 0) + 1.96 * np.std(result, 0)/np.sqrt(10), alpha=0.25, color=colors(i))\n",
    "# plt.fill_between(checkpoints_list, np.mean(result,0)-1.96*np.std(result,0)/np.sqrt(10), np.mean(result, 0) + 1.96 * np.std(result, 0)/np.sqrt(10), alpha=0.25, color=colors(i))\n",
    "\n",
    "plt.title(\"Charging Time\", fontsize=25, fontweight=\"bold\")\n",
    "plt.ylabel('Charging Time [min]', fontsize=30)\n",
    "plt.xlabel('Episode Number', fontsize=30)\n",
    "plt.tick_params(labelsize=30)\n",
    "plt.legend(fontsize=30,loc='upper right')\n"
   ]
  },
  {
   "cell_type": "markdown",
   "metadata": {},
   "source": [
    "## Validation\n",
    "\n",
    "Here we simulate the model by specifying 1) initial conditions and 2) learned policy. After simulation we are looking for state evolution.\n"
   ]
  },
  {
   "cell_type": "code",
   "execution_count": 2,
   "metadata": {},
   "outputs": [],
   "source": [
    "import gym\n",
    "import torch\n",
    "\n",
    "from ddpg_agent import Agent\n",
    "import ipdb\n",
    "\n",
    "import logz\n",
    "import scipy.signal\n",
    "import gym\n",
    "\n",
    "# import gym_dfn\n",
    "from gym_dfn.envs.dfn_env import *\n",
    "\n",
    "from gym_dfn.envs.ParamFile_LGC import p\n",
    "\n",
    "import statistics\n",
    "import pickle\n",
    "import os\n",
    "from settings_file import*\n",
    "\n",
    "#------------ For PCA \n",
    "from numpy import linalg as LA\n",
    "import scipy.io as sio\n",
    "data = sio.loadmat('PCA_DFN_info.mat')\n",
    "data_mu = data['time_states_mu']\n",
    "data_std = data['time_states_std']\n",
    "data_PCA = data['PCA_trans']"
   ]
  },
  {
   "cell_type": "code",
   "execution_count": 3,
   "metadata": {},
   "outputs": [],
   "source": [
    "def normalize_outputs(soc, voltage, temperature):\n",
    "\n",
    "    norm_soc = soc - 0.5\n",
    "    norm_voltage = (voltage - 3.5) / 1.2\n",
    "    norm_temperature = (temperature - 298 - 10) / (320 - 298)\n",
    "    norm_output = np.array([norm_soc, norm_voltage, norm_temperature])\n",
    "\n",
    "    return norm_output"
   ]
  },
  {
   "cell_type": "code",
   "execution_count": 4,
   "metadata": {},
   "outputs": [],
   "source": [
    "def get_output_observations(bat):\n",
    "    return bat.SOCn, bat.V, bat.Temp\n"
   ]
  },
  {
   "cell_type": "code",
   "execution_count": 5,
   "metadata": {},
   "outputs": [],
   "source": [
    "def normalize_states(state):\n",
    "\n",
    "    csn_max = 3.0542e+04\n",
    "    csp_max = 4.9521e+04\n",
    "    ce0 = 1.0e3\n",
    "    T_amb = 298.15\n",
    "\n",
    "    # ipdb.set_trace()\n",
    "\n",
    "    N_cavgn = p['Nxn']-1\n",
    "    N_cavgp = p['Nxp']-1\n",
    "    N_cex = p['Nxn']-1 + p['Nxs']-1 + p['Nxp']-1\n",
    "\n",
    "    # PCA Normalize the states.\n",
    "    # ipdb.set_trace()\n",
    "    c_avgn_concentration = state[:N_cavgn]\n",
    "    c_avgp_concentration = state[N_cavgn : (N_cavgn + N_cavgp)]\n",
    "    c_ex_concentration = state[(N_cavgn+N_cavgp):(N_cavgn+N_cavgp+N_cex)]\n",
    "\n",
    "    time_states = np.concatenate((c_avgn_concentration, c_avgp_concentration, c_ex_concentration), axis=0)\n",
    "    time_states_arr = time_states.reshape([time_states.shape[0],1])\n",
    "    standard_states_arr = (time_states_arr - data_mu)/data_std\n",
    "    pca_states_arr = np.dot(data_PCA, standard_states_arr)\n",
    "    pca_states_arr_nmz = pca_states_arr / LA.norm(pca_states_arr,2)\n",
    "\n",
    "    pca_states_nmz = pca_states_arr_nmz.reshape([pca_states_arr_nmz.shape[0],]) # arr -> list\n",
    "\n",
    "    # Temp = (state[-1] - 298 - 10) / (320-298)\n",
    "    # Temp = np.array([Temp])\n",
    "\n",
    "    # # Concatenate\n",
    "    # first_part = np.concatenate((c_avgn_concentration, c_avgp_concentration, c_ex_concentration), axis=0)\n",
    "    # second_part = np.concatenate((first_part, Temp), axis=0)\n",
    "\n",
    "    Temp = (state[-1] - 298 - 10) / (320-298)\n",
    "    Temp = np.array([Temp])\n",
    "\n",
    "    second_part = np.concatenate((pca_states_nmz,Temp),axis=0)\n",
    "\n",
    "    norm_state = second_part\n",
    "\n",
    "    # solid_concentration=state[:38]\n",
    "    # electrolyte_concentration=state[38:-1]-1\n",
    "    # temperature=(state[-1:]*298-298-10)/(320-298)\n",
    "    # first_part=np.concatenate((solid_concentration,electrolyte_concentration),axis=0)\n",
    "    # second_part=np.concatenate((first_part,temperature),axis=0)\n",
    "\n",
    "    # norm_state=second_part\n",
    "\n",
    "    return norm_state"
   ]
  },
  {
   "cell_type": "code",
   "execution_count": 6,
   "metadata": {},
   "outputs": [],
   "source": [
    "def denormalize_input(input_value, min_OUTPUT_value, max_OUTPUT_value):\n",
    "    \n",
    "    output_value=(1+input_value)*(max_OUTPUT_value-min_OUTPUT_value)/2+min_OUTPUT_value\n",
    "    \n",
    "    return output_value"
   ]
  },
  {
   "cell_type": "code",
   "execution_count": 7,
   "metadata": {},
   "outputs": [
    {
     "data": {
      "text/plain": [
       "<All keys matched successfully>"
      ]
     },
     "execution_count": 7,
     "metadata": {},
     "output_type": "execute_result"
    }
   ],
   "source": [
    "\n",
    "# Policy\n",
    "agent = Agent(state_size=3, action_size=1, random_seed=1)    \n",
    "\n",
    "# Load\n",
    "with open(\"results/training_results/checkpoints_list.txt\", \"rb\") as fp:   # Unpickling\n",
    "    checkpoints_list = pickle.load(fp)\n",
    "returns_list_at_the_end_of_training_without_exploration=[]\n",
    "\n",
    "# Choose the policy, which episode's policy do you want to choose for validation?\n",
    "i_episode=checkpoints_list[-1]  # the latest\n",
    "# i_episode=10\n",
    "\n",
    "i_training=1\n",
    "agent.actor_local.load_state_dict(torch.load('results/training_results/training'+str(i_training)+'/episode'+str(i_episode)+'/checkpoint_actor_'+str(i_episode)+'.pth',map_location='cpu'))\n",
    "agent.critic_local.load_state_dict(torch.load('results/training_results/training'+str(i_training)+'/episode'+str(i_episode)+'/checkpoint_critic_'+str(i_episode)+'.pth',map_location='cpu'))\n",
    "\n",
    "\n",
    "\n"
   ]
  },
  {
   "cell_type": "code",
   "execution_count": 8,
   "metadata": {},
   "outputs": [
    {
     "name": "stderr",
     "output_type": "stream",
     "text": [
      "/Users/shpark/anaconda3/lib/python3.7/site-packages/torch/nn/functional.py:1340: UserWarning: nn.functional.tanh is deprecated. Use torch.tanh instead.\n",
      "  warnings.warn(\"nn.functional.tanh is deprecated. Use torch.tanh instead.\")\n",
      "/Users/shpark/anaconda3/lib/python3.7/site-packages/gym/logger.py:30: UserWarning: \u001b[33mWARN: Box bound precision lowered by casting to float32\u001b[0m\n",
      "  warnings.warn(colorize('%s: %s'%('WARN', msg % args), 'yellow'))\n"
     ]
    }
   ],
   "source": [
    "# Environment\n",
    "# settings['sample_time']=1\n",
    "env = DFN(sett=settings, cont_sett=control_settings)\n",
    "\n",
    "init_V = 3.5\n",
    "init_T = 300\n",
    "_ = env.reset(init_v = init_V, init_t=init_T)\n",
    "soc, voltage, temperature = get_output_observations(env)\n",
    "norm_out = normalize_outputs(soc,voltage,temperature)\n",
    "# norm_state = normalize_states(state)\n",
    "\n",
    "ACTION_VEC=[]\n",
    "SOC_VEC=[]\n",
    "T_VEC=[]\n",
    "VOLTAGE_VEC=[]\n",
    "RETURN_VALUE=0\n",
    "TIME_VEC = []\n",
    "done=False\n",
    "\n",
    "cex_sim = []\n",
    "etasLn_sim = []\n",
    "cssn_sim = []\n",
    "cssp_sim = []\n",
    "cavgn_sim = []\n",
    "cavgp_sim = []\n",
    "nLis_sim = []\n",
    "\n",
    "phi_s_n_sim = []\n",
    "phi_s_p_sim = []\n",
    "ien_sim = []\n",
    "iep_sim = []\n",
    "jn_sim =[]\n",
    "jp_sim = []\n",
    "phi_e_sim = []\n",
    "\n",
    "\n",
    "\n",
    "tt=0\n",
    "TIME_VEC.append(tt)\n",
    "\n",
    "for t in range(10000):\n",
    "\n",
    "    # the exploration noise has been disabled\n",
    "    # norm_action = agent.act(norm_state, add_noise=False)\n",
    "    norm_action = agent.act(norm_out, add_noise=False)\n",
    "    \n",
    "\n",
    "    applied_action=denormalize_input(norm_action,\n",
    "                                             env.action_space.low[0],\n",
    "                                             env.action_space.high[0])    \n",
    "\n",
    "    _,reward,done,_ = env.step(applied_action)\n",
    "    next_soc, next_voltage, next_temperature = get_output_observations(env)\n",
    "    norm_next_out = normalize_outputs(next_soc, next_voltage, next_temperature.item())\n",
    "    \n",
    "#     norm_next_state=normalize_states(next_state)\n",
    "    RETURN_VALUE+=reward\n",
    "    \n",
    "    #save the simulation vectors\n",
    "    ACTION_VEC.append(applied_action[0])\n",
    "    SOC_VEC.append(env.info['SOCn'])\n",
    "    T_VEC.append(env.info['T'])\n",
    "    \n",
    "    #save the simulation info\n",
    "    cex_sim.append(env.c_ex)\n",
    "    etasLn_sim.append(env.etasLn)\n",
    "    cssn_sim.append(env.cssn)\n",
    "    cssp_sim.append(env.cssp)\n",
    "    cavgn_sim.append(env.c_avgn)\n",
    "    cavgp_sim.append(env.c_avgp)\n",
    "    nLis_sim.append(env.nLis)\n",
    "    \n",
    "    # save the algebraic states info.\n",
    "    phi_s_n_sim.append(env.out_phisn)\n",
    "    phi_s_p_sim.append(env.out_phisp)\n",
    "    ien_sim.append(env.out_ien)\n",
    "    iep_sim.append(env.out_iep)\n",
    "    jn_sim.append(env.out_jn)\n",
    "    jp_sim.append(env.out_jp)\n",
    "    phi_e_sim.append(env.out_phie)\n",
    "\n",
    "    tt += env.dt\n",
    "    TIME_VEC.append(tt)\n",
    "    VOLTAGE_VEC.append(env.info['V'])\n",
    "#     norm_state=norm_next_state\n",
    "    \n",
    "#     if done or RETURN_VALUE<control_settings['max_negative_score']:\n",
    "#         break\n",
    "\n",
    "    if done:\n",
    "        break"
   ]
  },
  {
   "cell_type": "code",
   "execution_count": 9,
   "metadata": {},
   "outputs": [
    {
     "data": {
      "text/plain": [
       "array([-1157.14099288])"
      ]
     },
     "execution_count": 9,
     "metadata": {},
     "output_type": "execute_result"
    }
   ],
   "source": [
    "RETURN_VALUE"
   ]
  },
  {
   "cell_type": "code",
   "execution_count": 10,
   "metadata": {},
   "outputs": [
    {
     "data": {
      "image/png": "[encoded data removed]",
      "text/plain": [
       "<Figure size 1152x648 with 1 Axes>"
      ]
     },
     "metadata": {
      "needs_background": "light"
     },
     "output_type": "display_data"
    }
   ],
   "source": [
    "\n",
    "fig, ax1 = plt.subplots(figsize=(16,9))\n",
    "ax1.set_facecolor(\"white\")\n",
    "ax1.grid(which='major', axis='both', linestyle='-', color='k', linewidth=0.1)\n",
    "\n",
    "\n",
    "plt.plot(np.array(TIME_VEC[:-1])/60,np.array(ACTION_VEC))\n",
    "plt.title(\"Action\", fontsize=25, fontweight=\"bold\")\n",
    "plt.ylabel(r'Current [$A$]', fontsize=30)\n",
    "plt.xlabel('Time [Min]', fontsize=30)\n",
    "plt.tick_params(labelsize=30)\n",
    "\n"
   ]
  },
  {
   "cell_type": "code",
   "execution_count": 11,
   "metadata": {},
   "outputs": [
    {
     "data": {
      "text/plain": [
       "1440"
      ]
     },
     "execution_count": 11,
     "metadata": {},
     "output_type": "execute_result"
    }
   ],
   "source": [
    "TIME_VEC[-1]"
   ]
  },
  {
   "cell_type": "code",
   "execution_count": 12,
   "metadata": {},
   "outputs": [
    {
     "data": {
      "image/png": "[encoded data removed]",
      "text/plain": [
       "<Figure size 1152x648 with 1 Axes>"
      ]
     },
     "metadata": {
      "needs_background": "light"
     },
     "output_type": "display_data"
    }
   ],
   "source": [
    "fig, ax1 = plt.subplots(figsize=(16,9))\n",
    "ax1.set_facecolor(\"white\")\n",
    "ax1.grid(which='major', axis='both', linestyle='-', color='k', linewidth=0.1)\n",
    "\n",
    "\n",
    "volt_th = control_settings['constraints']['voltage']['max']\n",
    "plt.plot(np.array(TIME_VEC[:-1])/60,np.array(VOLTAGE_VEC), LineWidth=3)\n",
    "plt.plot(np.array(TIME_VEC[:-1])/60, volt_th*np.ones([len(VOLTAGE_VEC),]),'k--', LineWidth=3)\n",
    "plt.title(\"Voltage\", fontsize=25, fontweight=\"bold\")\n",
    "plt.ylabel('Voltage [$V$]', fontsize=30)\n",
    "plt.xlabel('Time', fontsize=30)\n",
    "plt.tick_params(labelsize=30)\n",
    "\n"
   ]
  },
  {
   "cell_type": "code",
   "execution_count": 13,
   "metadata": {},
   "outputs": [
    {
     "data": {
      "image/png": "[encoded data removed]",
      "text/plain": [
       "<Figure size 1152x648 with 1 Axes>"
      ]
     },
     "metadata": {
      "needs_background": "light"
     },
     "output_type": "display_data"
    }
   ],
   "source": [
    "fig, ax1 = plt.subplots(figsize=(16,9))\n",
    "ax1.set_facecolor(\"white\")\n",
    "ax1.grid(which='major', axis='both', linestyle='-', color='k', linewidth=0.1)\n",
    "\n",
    "\n",
    "plt.plot(np.array(TIME_VEC[:-1])/60,np.array(T_VEC)-273, LineWidth=3)\n",
    "plt.plot(np.array(TIME_VEC[:-1])/60,(308-273)*np.ones([len(T_VEC),]),'k--', LineWidth=3)\n",
    "plt.title(\"Temperature\", fontsize=25, fontweight=\"bold\")\n",
    "plt.ylabel(r'Temperature [$^{\\circ}$C]', fontsize=30)\n",
    "plt.xlabel('Time', fontsize=30)\n",
    "plt.tick_params(labelsize=30)\n",
    "\n",
    "\n"
   ]
  },
  {
   "cell_type": "code",
   "execution_count": 14,
   "metadata": {},
   "outputs": [
    {
     "data": {
      "image/png": "[encoded data removed]",
      "text/plain": [
       "<Figure size 1152x648 with 1 Axes>"
      ]
     },
     "metadata": {
      "needs_background": "light"
     },
     "output_type": "display_data"
    }
   ],
   "source": [
    "fig, ax1 = plt.subplots(figsize=(16,9))\n",
    "ax1.set_facecolor(\"white\")\n",
    "ax1.grid(which='major', axis='both', linestyle='-', color='k', linewidth=0.1)\n",
    "\n",
    "\n",
    "plt.plot(np.array(TIME_VEC[:-1])/60,np.array(SOC_VEC), LineWidth=3)\n",
    "plt.plot(np.array(TIME_VEC[:-1])/60,0.8*np.ones([len(SOC_VEC),]),'k--', LineWidth=3)\n",
    "plt.title(\"SOC\", fontsize=25, fontweight=\"bold\")\n",
    "plt.ylabel('SOC [-]', fontsize=30)\n",
    "plt.xlabel('Time [min]', fontsize=30)\n",
    "plt.tick_params(labelsize=30)\n",
    "\n"
   ]
  },
  {
   "cell_type": "code",
   "execution_count": 15,
   "metadata": {},
   "outputs": [
    {
     "data": {
      "image/png": "[encoded data removed]",
      "text/plain": [
       "<Figure size 1152x648 with 1 Axes>"
      ]
     },
     "metadata": {
      "needs_background": "light"
     },
     "output_type": "display_data"
    }
   ],
   "source": [
    "fig, ax1 = plt.subplots(figsize=(16,9))\n",
    "ax1.set_facecolor(\"white\")\n",
    "ax1.grid(which='major', axis='both', linestyle='-', color='k', linewidth=0.1)\n",
    "\n",
    "etasLn_th = control_settings['constraints']['etasLn']['min']\n",
    "plt.plot(np.array(TIME_VEC[:-1])/60,np.array(etasLn_sim), LineWidth=3)\n",
    "plt.plot(np.array(TIME_VEC[:-1])/60,etasLn_th*np.ones([len(SOC_VEC),]),'k--', LineWidth=3)\n",
    "plt.title(\"etasLn\", fontsize=25, fontweight=\"bold\")\n",
    "plt.ylim((0, 0.12))\n",
    "plt.ylabel('etasLn [-]', fontsize=30)\n",
    "plt.xlabel('Time [min]', fontsize=30)\n",
    "plt.tick_params(labelsize=30)\n",
    "\n"
   ]
  },
  {
   "cell_type": "markdown",
   "metadata": {},
   "source": [
    "## Evolution of States"
   ]
  },
  {
   "cell_type": "markdown",
   "metadata": {},
   "source": [
    "### 1. Ce"
   ]
  },
  {
   "cell_type": "markdown",
   "metadata": {},
   "source": [
    "### Showing Animation directly"
   ]
  },
  {
   "cell_type": "code",
   "execution_count": null,
   "metadata": {},
   "outputs": [],
   "source": [
    "import matplotlib.pyplot as plt\n",
    "import matplotlib.animation\n",
    "import numpy as np\n",
    "from IPython.display import display, clear_output\n",
    "\n",
    "x_axis = np.arange(0,p['Nx']-3,1)\n",
    "episode_len = len(ACTION_VEC)\n",
    "cex_sim_plt = np.array(cex_sim)\n",
    "cex_sim_plt=cex_sim_plt.reshape([cex_sim_plt.shape[0],cex_sim_plt.shape[1]])\n",
    "cex_sim_plt = cex_sim_plt.T\n",
    "\n",
    "for i in range(episode_len-1):\n",
    "    fig, ax = plt.subplots()\n",
    "    plt.ylim((0, 2000))\n",
    "    ax.plot(x_axis,cex_sim_plt[:,i])\n",
    "    clear_output(wait=True)\n",
    "    display(fig)\n",
    "\n",
    "clear_output(wait=True)"
   ]
  },
  {
   "cell_type": "markdown",
   "metadata": {},
   "source": [
    "### Save as animated file.\n",
    "for ppt slides.."
   ]
  },
  {
   "cell_type": "code",
   "execution_count": null,
   "metadata": {},
   "outputs": [],
   "source": [
    "from matplotlib import pyplot as plt\n",
    "from celluloid import Camera\n",
    "import time\n",
    "import matplotlib.animation as animation\n",
    "# plt.rcParams['animation.ffmpeg_path'] = '/usr/bin/ffmpeg' # You need to specify your path to ffmpeg:\n",
    "\n",
    "fig = plt.figure()\n",
    "camera = Camera(fig)\n",
    "end_shot = cex_sim_plt.shape[1]\n",
    "\n",
    "for i in range(end_shot):\n",
    "    plt.plot(cex_sim_plt[:,i])\n",
    "    plt.xlabel('x-axis')\n",
    "    plt.ylabel(r'$c_e$ conc. [mol/$m^3$]')\n",
    "    camera.snap()\n",
    "    \n",
    "animation = camera.animate()\n",
    "# ipdb.set_trace()\n",
    "animation.save('cex_sim_plt.gif', writer = 'imagemagick')"
   ]
  },
  {
   "cell_type": "markdown",
   "metadata": {},
   "source": [
    "### 2. Cssn & Cssp"
   ]
  },
  {
   "cell_type": "code",
   "execution_count": null,
   "metadata": {},
   "outputs": [],
   "source": [
    "import matplotlib.pyplot as plt\n",
    "import matplotlib.animation\n",
    "import numpy as np\n",
    "from IPython.display import display, clear_output\n",
    "\n",
    "\n",
    "cssn_sim_plt = np.array(cssn_sim)\n",
    "cssn_sim_plt = cssn_sim_plt.reshape([cssn_sim_plt.shape[0],cssn_sim_plt.shape[1]])\n",
    "cssn_sim_plt = cssn_sim_plt.T\n",
    "\n",
    "x_axis = np.arange(0,p['Nx']-3,1)\n",
    "episode_len = len(ACTION_VEC)\n",
    "\n",
    "for i in range(episode_len-1):\n",
    "    fig, ax = plt.subplots()\n",
    "#     plt.ylim((0, 2000))\n",
    "    ax.plot(cssn_sim_plt[:,i])\n",
    "    clear_output(wait=True)\n",
    "    display(fig)\n",
    "\n",
    "clear_output(wait=True)"
   ]
  },
  {
   "cell_type": "code",
   "execution_count": null,
   "metadata": {},
   "outputs": [],
   "source": [
    "import matplotlib.pyplot as plt\n",
    "import matplotlib.animation\n",
    "import numpy as np\n",
    "from IPython.display import display, clear_output\n",
    "\n",
    "\n",
    "cssp_sim_plt = np.array(cssp_sim)\n",
    "cssp_sim_plt = cssp_sim_plt.reshape([cssp_sim_plt.shape[0],cssp_sim_plt.shape[1]])\n",
    "cssp_sim_plt = cssp_sim_plt.T\n",
    "\n",
    "x_axis = np.arange(0,p['Nx']-3,1)\n",
    "episode_len = len(ACTION_VEC)\n",
    "\n",
    "for i in range(episode_len-1):\n",
    "    fig, ax = plt.subplots()\n",
    "#     plt.ylim((0, 2000))\n",
    "    ax.plot(cssp_sim_plt[:,i])\n",
    "    clear_output(wait=True)\n",
    "    display(fig)\n",
    "\n",
    "clear_output(wait=True)"
   ]
  },
  {
   "cell_type": "markdown",
   "metadata": {},
   "source": [
    "### Save as animated file.\n",
    "for ppt slides.."
   ]
  },
  {
   "cell_type": "code",
   "execution_count": null,
   "metadata": {},
   "outputs": [],
   "source": [
    "from matplotlib import pyplot as plt\n",
    "from celluloid import Camera\n",
    "import time\n",
    "import matplotlib.animation as animation\n",
    "# plt.rcParams['animation.ffmpeg_path'] = '/usr/bin/ffmpeg' # You need to specify your path to ffmpeg:\n",
    "\n",
    "\n",
    "fig = plt.figure(figsize=(16, 9))\n",
    "grid = plt.GridSpec(1, 2, hspace=0.5, wspace=0.2)\n",
    "cssn_plt = fig.add_subplot(grid[0, 0])\n",
    "cssp_plt = fig.add_subplot(grid[0, 1])\n",
    "\n",
    "# fig = plt.figure()\n",
    "camera = Camera(fig)\n",
    "end_shot = cex_sim_plt.shape[1]\n",
    "\n",
    "for i in range(end_shot):\n",
    "    cssn_plt.plot(cssn_sim_plt[:,i])\n",
    "    cssn_plt.set_xlabel('x-axis')\n",
    "    cssn_plt.set_ylabel(r'$c_{ss}^{-}$ conc. [mol/$m^3$]')\n",
    "    cssp_plt.plot(cssp_sim_plt[:,i])\n",
    "    cssp_plt.set_xlabel('x-axis')\n",
    "    cssp_plt.set_ylabel(r'$c_{ss}^{+}$ conc. [mol/$m^3$]')\n",
    "    camera.snap()\n",
    "    \n",
    "animation = camera.animate()\n",
    "\n",
    "animation.save('css_sim_plt.gif', writer = 'imagemagick')"
   ]
  },
  {
   "cell_type": "markdown",
   "metadata": {},
   "source": [
    "### 3. Cavgn & Cavgp"
   ]
  },
  {
   "cell_type": "code",
   "execution_count": null,
   "metadata": {},
   "outputs": [],
   "source": [
    "import matplotlib.pyplot as plt\n",
    "import matplotlib.animation\n",
    "import numpy as np\n",
    "from IPython.display import display, clear_output\n",
    "\n",
    "\n",
    "cavgn_sim_plt = np.array(cavgn_sim)\n",
    "cavgn_sim_plt = cavgn_sim_plt.reshape([cavgn_sim_plt.shape[0],cavgn_sim_plt.shape[1]])\n",
    "cavgn_sim_plt = cavgn_sim_plt.T\n",
    "\n",
    "x_axis = np.arange(0,p['Nx']-3,1)\n",
    "episode_len = len(ACTION_VEC)\n",
    "\n",
    "for i in range(episode_len-1):\n",
    "    fig, ax = plt.subplots()\n",
    "#     plt.ylim((0, 2000))\n",
    "    ax.plot(cavgn_sim_plt[:,i]/p['c_s_n_max'])\n",
    "    clear_output(wait=True)\n",
    "    display(fig)\n",
    "\n",
    "clear_output(wait=True)"
   ]
  },
  {
   "cell_type": "code",
   "execution_count": null,
   "metadata": {},
   "outputs": [],
   "source": [
    "import matplotlib.pyplot as plt\n",
    "import matplotlib.animation\n",
    "import numpy as np\n",
    "from IPython.display import display, clear_output\n",
    "\n",
    "\n",
    "cavgp_sim_plt = np.array(cavgp_sim)\n",
    "cavgp_sim_plt = cavgp_sim_plt.reshape([cavgp_sim_plt.shape[0],cavgp_sim_plt.shape[1]])\n",
    "cavgp_sim_plt = cavgp_sim_plt.T\n",
    "\n",
    "x_axis = np.arange(0,p['Nx']-3,1)\n",
    "episode_len = len(ACTION_VEC)\n",
    "\n",
    "for i in range(episode_len-1):\n",
    "    fig, ax = plt.subplots()\n",
    "#     plt.ylim((0, 2000))\n",
    "    ax.plot(cavgp_sim_plt[:,i]/p['c_s_p_max'])\n",
    "    clear_output(wait=True)\n",
    "    display(fig)\n",
    "\n",
    "clear_output(wait=True)"
   ]
  },
  {
   "cell_type": "markdown",
   "metadata": {},
   "source": [
    "### Save as animated file.\n",
    "for ppt slides.."
   ]
  },
  {
   "cell_type": "code",
   "execution_count": null,
   "metadata": {},
   "outputs": [],
   "source": [
    "from matplotlib import pyplot as plt\n",
    "from celluloid import Camera\n",
    "import time\n",
    "import matplotlib.animation as animation\n",
    "# plt.rcParams['animation.ffmpeg_path'] = '/usr/bin/ffmpeg' # You need to specify your path to ffmpeg:\n",
    "\n",
    "\n",
    "fig = plt.figure(figsize=(16, 9))\n",
    "grid = plt.GridSpec(1, 2, hspace=0.5, wspace=0.2)\n",
    "cavgn_plt = fig.add_subplot(grid[0, 0])\n",
    "cavgp_plt = fig.add_subplot(grid[0, 1])\n",
    "\n",
    "# fig = plt.figure()\n",
    "camera = Camera(fig)\n",
    "end_shot = cex_sim_plt.shape[1]\n",
    "\n",
    "for i in range(end_shot):\n",
    "    cavgn_plt.plot(cavgn_sim_plt[:,i]/p['c_s_n_max'])\n",
    "    cavgn_plt.set_xlabel('x-axis')\n",
    "    cavgn_plt.set_ylabel(r'$c_{\\rm{avg}}^{-}$ conc. [mol/$m^3$]')\n",
    "    cavgp_plt.plot(cavgp_sim_plt[:,i]/p['c_s_p_max'])\n",
    "    cavgp_plt.set_xlabel('x-axis')\n",
    "    cavgp_plt.set_ylabel(r'$c_{\\rm{avg}}^{+}$ conc. [mol/$m^3$]')\n",
    "    camera.snap()\n",
    "    \n",
    "animation = camera.animate()\n",
    "\n",
    "animation.save('cavg_sim_plt.gif', writer = 'imagemagick')"
   ]
  },
  {
   "cell_type": "markdown",
   "metadata": {},
   "source": [
    "## Plot all in ONE.\n",
    "\n",
    "### 1. Echem states."
   ]
  },
  {
   "cell_type": "code",
   "execution_count": null,
   "metadata": {},
   "outputs": [],
   "source": [
    "temp_th = control_settings['constraints']['temperature']['max'] -273"
   ]
  },
  {
   "cell_type": "code",
   "execution_count": null,
   "metadata": {},
   "outputs": [],
   "source": [
    "time_sim = np.array(TIME_VEC)\n",
    "time_vec = time_sim\n",
    "\n",
    "xn_size = p['Nxn']-1\n",
    "xn_vec_sim = np.arange(0,xn_size)\n",
    "\n",
    "xs_size = p['Nxs']-1 # number of discretization points in separator.\n",
    "xs_vec_sim = np.arange(0,xs_size)\n",
    "\n",
    "xp_size = p['Nxp']-1 # number of discretization points in cathode\n",
    "xp_vec_sim = np.arange(0,xp_size)\n",
    "\n",
    "x_vec_size = p['Nxn'] + p['Nxs'] + p['Nxp'] - 3\n",
    "x_vec_sim = np.arange(0,x_vec_size)\n",
    "\n",
    "\n",
    "c_avgn_sim = np.array(cavgn_sim)\n",
    "c_avgn_sim = c_avgn_sim.reshape([c_avgn_sim.shape[0],c_avgn_sim.shape[1]])\n",
    "c_avgn_sim = c_avgn_sim.T\n",
    "\n",
    "c_avgp_sim = np.array(cavgp_sim)\n",
    "c_avgp_sim = c_avgp_sim.reshape([c_avgp_sim.shape[0],c_avgp_sim.shape[1]])\n",
    "c_avgp_sim = c_avgp_sim.T\n",
    "\n",
    "c_ssn_sim = np.array(cssn_sim)\n",
    "c_ssn_sim = c_ssn_sim.reshape([c_ssn_sim.shape[0],c_ssn_sim.shape[1]])\n",
    "c_ssn_sim = c_ssn_sim.T\n",
    "\n",
    "c_ssp_sim = np.array(cssp_sim)\n",
    "c_ssp_sim = c_ssp_sim.reshape([c_ssp_sim.shape[0],c_ssp_sim.shape[1]])\n",
    "c_ssp_sim = c_ssp_sim.T\n",
    "\n",
    "c_ex_sim = np.array(cex_sim)\n",
    "c_ex_sim = c_ex_sim.reshape([c_ex_sim.shape[0],c_ex_sim.shape[1]])\n",
    "c_ex_sim = c_ex_sim.T\n",
    "\n",
    "temp_sim = np.array(T_VEC)\n",
    "temp_sim = temp_sim.reshape([temp_sim.shape[0],])# shape:(,NT)\n",
    "\n",
    "soc_sim = np.array(SOC_VEC)\n",
    "\n",
    "fs = 30\n",
    "lw = 4\n",
    "\n",
    "\n",
    "for tt in range(len(time_sim)):\n",
    "    \n",
    "    # Figure setting\n",
    "    fig = plt.figure(figsize=(18,12))\n",
    "    grid = plt.GridSpec(5,3,hspace=1.0, wspace=0.1)\n",
    "    cssn_plt = fig.add_subplot(grid[0,0])\n",
    "    cssp_plt = fig.add_subplot(grid[0,2])\n",
    "    cavgn_plt = fig.add_subplot(grid[1,0])\n",
    "    cavgp_plt = fig.add_subplot(grid[1,2])\n",
    "    cex_plt = fig.add_subplot(grid[2,:])\n",
    "    temp_plt = fig.add_subplot(grid[3,:])\n",
    "    soc_plt = fig.add_subplot(grid[4,:])\n",
    "    \n",
    "    cssn_plt.plot(xn_vec_sim,c_ssn_sim[:,tt]/p['c_s_n_max'],LineWidth=lw)\n",
    "    cssn_plt.set_xlim((0,xn_vec_sim[-1]))\n",
    "    cssn_plt.set_ylim((0,1.1))\n",
    "    cssn_plt.set_xlabel('x in Anode',fontsize=fs)\n",
    "    cssn_plt.set_ylabel(r'$c^{-}_{ss}/c^{-}_{max}$',fontsize=fs)\n",
    "    cssn_plt.tick_params(labelsize=fs)\n",
    "\n",
    "    cssp_plt.plot(xp_vec_sim,c_ssp_sim[:,tt]/p['c_s_p_max'],LineWidth=lw)\n",
    "    cssp_plt.set_xlim((0,xp_vec_sim[-1]))\n",
    "    cssp_plt.set_ylim((0,1.1))\n",
    "    cssp_plt.set_xlabel('x in Cathode',fontsize=fs)\n",
    "    cssp_plt.set_ylabel(r'$c^{+}_{ss}/c^{+}_{max}$',fontsize=fs)\n",
    "    cssp_plt.tick_params(labelsize=fs)\n",
    "    \n",
    "    cavgn_plt.plot(xn_vec_sim,c_avgn_sim[:,tt]/p['c_s_n_max'],LineWidth=lw)\n",
    "    cavgn_plt.set_xlim((0,xn_vec_sim[-1]))\n",
    "    cavgn_plt.set_ylim((0,1.1))\n",
    "    cavgn_plt.set_xlabel('x',fontsize=fs)\n",
    "    cavgn_plt.set_ylabel(r'$c^{-}_{avg}/c^{-}_{max}$',fontsize=fs)\n",
    "    cavgn_plt.tick_params(labelsize=fs)\n",
    "    \n",
    "    cavgp_plt.plot(xp_vec_sim,c_avgp_sim[:,tt]/p['c_s_p_max'],LineWidth=lw)\n",
    "    cavgp_plt.set_xlim((0,xp_vec_sim[-1]))\n",
    "    cavgp_plt.set_ylim((0,1.1))\n",
    "    cavgp_plt.set_xlabel('x',fontsize=fs)\n",
    "    cavgp_plt.set_ylabel(r'$c^{+}_{avg}/c^{+}_{max}$',fontsize=fs)\n",
    "    cavgp_plt.tick_params(labelsize=fs)\n",
    "    \n",
    "    cex_plt.plot(x_vec_sim,c_ex_sim[:,tt],LineWidth=lw)\n",
    "    cex_plt.set_xlim((0,x_vec_sim[-1]))\n",
    "    cex_plt.set_ylim((100, 2000))\n",
    "    cex_plt.set_xlabel('x',fontsize=fs)\n",
    "    cex_plt.set_ylabel(r'$c_e(x,t)$',fontsize=fs)\n",
    "    cex_plt.tick_params(labelsize=fs)\n",
    "    \n",
    "    temp_plt.plot(time_vec[:tt]/60,temp_sim[:tt]-273,LineWidth=lw)\n",
    "    temp_plt.plot(time_vec[:-1]/60,temp_th*np.ones([len(temp_sim),]),'k--',LineWidth=lw)\n",
    "    temp_plt.set_ylim((298-273, 310-273))\n",
    "    temp_plt.set_xlim((0,time_vec[-1]/60))\n",
    "    temp_plt.set_xlabel('time [min]',fontsize=fs)\n",
    "    temp_plt.set_ylabel(r'Temp [$^{\\circ}$C]',fontsize=fs)\n",
    "    temp_plt.tick_params(labelsize=fs)\n",
    "    \n",
    "    soc_plt.plot(time_vec[:tt]/60,soc_sim[:tt],LineWidth=lw)\n",
    "    soc_plt.plot(time_vec[:-1]/60,0.8*np.ones([len(soc_sim),]),'k--',LineWidth=lw)\n",
    "    soc_plt.set_ylim((0,1))\n",
    "    soc_plt.set_xlim((0,time_vec[-1]/60))\n",
    "    soc_plt.set_xlabel('x',fontsize=fs)\n",
    "    soc_plt.set_ylabel('SOC [-]',fontsize=fs)\n",
    "    soc_plt.tick_params(labelsize=fs)\n",
    "    \n",
    "\n",
    "    clear_output(wait=True)\n",
    "    display(fig)\n",
    "\n",
    "clear_output(wait=True)\n",
    "\n"
   ]
  },
  {
   "cell_type": "markdown",
   "metadata": {},
   "source": [
    "#### Save as .mp4"
   ]
  },
  {
   "cell_type": "code",
   "execution_count": null,
   "metadata": {},
   "outputs": [],
   "source": [
    "import matplotlib.animation as animation\n",
    "\n",
    "\n",
    "# Set up formatting for the movie files\n",
    "Writer = animation.writers['ffmpeg']\n",
    "writer = Writer(fps=15, metadata=dict(artist='Me'), bitrate=1800)\n",
    "\n",
    "\n",
    "time_sim = np.array(TIME_VEC)\n",
    "time_vec = time_sim\n",
    "\n",
    "xn_size = p['Nxn']-1\n",
    "xn_vec_sim = np.arange(0,xn_size)\n",
    "\n",
    "xs_size = p['Nxs']-1 # number of discretization points in separator.\n",
    "xs_vec_sim = np.arange(0,xs_size)\n",
    "\n",
    "xp_size = p['Nxp']-1 # number of discretization points in cathode\n",
    "xp_vec_sim = np.arange(0,xp_size)\n",
    "\n",
    "x_vec_size = p['Nxn'] + p['Nxs'] + p['Nxp'] - 3\n",
    "x_vec_sim = np.arange(0,x_vec_size)\n",
    "\n",
    "\n",
    "c_avgn_sim = np.array(cavgn_sim)\n",
    "c_avgn_sim = c_avgn_sim.reshape([c_avgn_sim.shape[0],c_avgn_sim.shape[1]])\n",
    "c_avgn_sim = c_avgn_sim.T\n",
    "\n",
    "c_avgp_sim = np.array(cavgp_sim)\n",
    "c_avgp_sim = c_avgp_sim.reshape([c_avgp_sim.shape[0],c_avgp_sim.shape[1]])\n",
    "c_avgp_sim = c_avgp_sim.T\n",
    "\n",
    "c_ssn_sim = np.array(cssn_sim)\n",
    "c_ssn_sim = c_ssn_sim.reshape([c_ssn_sim.shape[0],c_ssn_sim.shape[1]])\n",
    "c_ssn_sim = c_ssn_sim.T\n",
    "\n",
    "c_ssp_sim = np.array(cssp_sim)\n",
    "c_ssp_sim = c_ssp_sim.reshape([c_ssp_sim.shape[0],c_ssp_sim.shape[1]])\n",
    "c_ssp_sim = c_ssp_sim.T\n",
    "\n",
    "c_ex_sim = np.array(cex_sim)\n",
    "c_ex_sim = c_ex_sim.reshape([c_ex_sim.shape[0],c_ex_sim.shape[1]])\n",
    "c_ex_sim = c_ex_sim.T\n",
    "\n",
    "temp_sim = np.array(T_VEC)\n",
    "temp_sim = temp_sim.reshape([temp_sim.shape[0],])# shape:(,NT)\n",
    "\n",
    "soc_sim = np.array(SOC_VEC)\n",
    "\n",
    "fs = 20\n",
    "lw = 4\n",
    "\n",
    "# Figure setting\n",
    "fig = plt.figure(figsize=(18,12))\n",
    "grid = plt.GridSpec(5,3,hspace=1.0, wspace=0.1)\n",
    "cssn_plt = fig.add_subplot(grid[0,0])\n",
    "cssp_plt = fig.add_subplot(grid[0,2])\n",
    "cavgn_plt = fig.add_subplot(grid[1,0])\n",
    "cavgp_plt = fig.add_subplot(grid[1,2])\n",
    "cex_plt = fig.add_subplot(grid[2,:])\n",
    "temp_plt = fig.add_subplot(grid[3,:])\n",
    "soc_plt = fig.add_subplot(grid[4,:])\n",
    "\n",
    "camera = Camera(fig)\n",
    "end_shot = cex_sim_plt.shape[1]\n",
    "\n",
    "for tt in range(len(time_sim)-1):\n",
    "    \n",
    "    cssn_plt.plot(xn_vec_sim,c_ssn_sim[:,tt]/p['c_s_n_max'],LineWidth=lw)\n",
    "    cssn_plt.set_xlim((0,xn_vec_sim[-1]))\n",
    "    cssn_plt.set_ylim((0,1.1))\n",
    "    cssn_plt.set_xlabel('x in Anode',fontsize=fs)\n",
    "    cssn_plt.set_ylabel(r'$c^{-}_{ss}/c^{-}_{max}$',fontsize=fs)\n",
    "    cssn_plt.tick_params(labelsize=fs)\n",
    "\n",
    "    cssp_plt.plot(xp_vec_sim,c_ssp_sim[:,tt]/p['c_s_p_max'],LineWidth=lw)\n",
    "    cssp_plt.set_xlim((0,xp_vec_sim[-1]))\n",
    "    cssp_plt.set_ylim((0,1.1))\n",
    "    cssp_plt.set_xlabel('x in Cathode',fontsize=fs)\n",
    "    cssp_plt.set_ylabel(r'$c^{+}_{ss}/c^{+}_{max}$',fontsize=fs)\n",
    "    cssp_plt.tick_params(labelsize=fs)\n",
    "    \n",
    "    cavgn_plt.plot(xn_vec_sim,c_avgn_sim[:,tt]/p['c_s_n_max'],LineWidth=lw)\n",
    "    cavgn_plt.set_xlim((0,xn_vec_sim[-1]))\n",
    "    cavgn_plt.set_ylim((0,1.1))\n",
    "    cavgn_plt.set_xlabel('x in Anode',fontsize=fs)\n",
    "    cavgn_plt.set_ylabel(r'$c^{-}_{avg}/c^{-}_{max}$',fontsize=fs)\n",
    "    cavgn_plt.tick_params(labelsize=fs)\n",
    "    \n",
    "    cavgp_plt.plot(xp_vec_sim,c_avgp_sim[:,tt]/p['c_s_p_max'],LineWidth=lw)\n",
    "    cavgp_plt.set_xlim((0,xp_vec_sim[-1]))\n",
    "    cavgp_plt.set_ylim((0,1.1))\n",
    "    cavgp_plt.set_xlabel('x in Cathode',fontsize=fs)\n",
    "    cavgp_plt.set_ylabel(r'$c^{+}_{avg}/c^{+}_{max}$',fontsize=fs)\n",
    "    cavgp_plt.tick_params(labelsize=fs)\n",
    "    \n",
    "    cex_plt.plot(x_vec_sim,c_ex_sim[:,tt],LineWidth=lw)\n",
    "    cex_plt.set_xlim((0,x_vec_sim[-1]))\n",
    "    cex_plt.set_ylim((100, 2000))\n",
    "    cex_plt.set_xlabel('x',fontsize=fs)\n",
    "    cex_plt.set_ylabel(r'$c_e(x,t)$',fontsize=fs)\n",
    "    cex_plt.tick_params(labelsize=fs)\n",
    "    \n",
    "    temp_plt.plot(time_vec[:tt]/60,temp_sim[:tt]-273,LineWidth=lw)\n",
    "    temp_plt.plot(time_vec[:-1]/60,temp_th*np.ones([len(temp_sim),]),'k--',LineWidth=lw)\n",
    "    temp_plt.set_ylim((298-273, 310-273))\n",
    "    temp_plt.set_xlim((0,time_vec[-2]/60))\n",
    "    temp_plt.set_xlabel('time [min]',fontsize=fs)\n",
    "    temp_plt.set_ylabel(r'Temp [$^{\\circ}$C]',fontsize=fs)\n",
    "    temp_plt.tick_params(labelsize=fs)\n",
    "    \n",
    "    soc_plt.plot(time_vec[:tt]/60,soc_sim[:tt],LineWidth=lw)\n",
    "    soc_plt.plot(time_vec[:-1]/60,0.8*np.ones([len(soc_sim),]),'k--',LineWidth=lw)\n",
    "    soc_plt.set_ylim((0,1))\n",
    "    soc_plt.set_xlim((0,time_vec[-2]/60))\n",
    "    soc_plt.set_xlabel('x',fontsize=fs)\n",
    "    soc_plt.set_ylabel('SOC [-]',fontsize=fs)\n",
    "    soc_plt.tick_params(labelsize=fs)\n",
    "    \n",
    "\n",
    "    camera.snap()\n",
    "\n",
    "animation = camera.animate()\n",
    "animation.save('Echem_states_plt.mp4', writer = writer)"
   ]
  },
  {
   "cell_type": "markdown",
   "metadata": {},
   "source": [
    "### 1. Echem algebraic states."
   ]
  },
  {
   "cell_type": "code",
   "execution_count": null,
   "metadata": {},
   "outputs": [],
   "source": [
    "\n",
    "phi_s_n_sim_ = np.array(phi_s_n_sim)\n",
    "phi_s_n_sim_ = phi_s_n_sim_.reshape([phi_s_n_sim_.shape[0],phi_s_n_sim_.shape[1]])\n",
    "phi_s_n_sim_ = phi_s_n_sim_.T\n",
    "\n",
    "phi_s_p_sim_ = np.array(phi_s_p_sim)\n",
    "phi_s_p_sim_ = phi_s_p_sim_.reshape([phi_s_p_sim_.shape[0],phi_s_p_sim_.shape[1]])\n",
    "phi_s_p_sim_ = phi_s_p_sim_.T\n",
    "\n",
    "ien_sim_ = np.array(ien_sim)\n",
    "ien_sim_ = ien_sim_.reshape([ien_sim_.shape[0],ien_sim_.shape[1]])\n",
    "ien_sim_ = ien_sim_.T\n",
    "\n",
    "iep_sim_ = np.array(iep_sim)\n",
    "iep_sim_ = iep_sim_.reshape([iep_sim_.shape[0],iep_sim_.shape[1]])\n",
    "iep_sim_ = iep_sim_.T\n",
    "\n",
    "jn_sim_ = np.array(jn_sim)\n",
    "jn_sim_ = jn_sim_.reshape([jn_sim_.shape[0],jn_sim_.shape[1]])\n",
    "jn_sim_ = jn_sim_.T\n",
    "\n",
    "jp_sim_ = np.array(jp_sim)\n",
    "jp_sim_ = jp_sim_.reshape([jp_sim_.shape[0],jp_sim_.shape[1]])\n",
    "jp_sim_ = jp_sim_.T\n",
    "\n",
    "phi_e_sim_ = np.array(phi_e_sim)\n",
    "phi_e_sim_ = phi_e_sim_.reshape([phi_e_sim_.shape[0],phi_e_sim_.shape[1]])\n",
    "phi_e_sim_ = phi_e_sim_.T\n",
    "\n",
    "x_vec_phie_size = p['Nx']-1 \n",
    "x_vec_phie = np.arange(0,x_vec_phie_size)\n",
    "\n",
    "etasLn_sim_ = np.array(etasLn_sim)\n",
    "etasLn_sim_ = etasLn_sim_.reshape([etasLn_sim_.shape[0],]) # shape [1,]\n",
    "\n",
    "fs = 20\n",
    "lw = 4\n",
    "\n",
    "\n",
    "\n",
    "for tt in range(len(time_sim)):\n",
    "    \n",
    "    # Figure setting\n",
    "    fig = plt.figure(figsize=(16,12))\n",
    "    grid = plt.GridSpec(5,3,hspace=1.0, wspace=0.1)\n",
    "    phisn_plt = fig.add_subplot(grid[0,0])\n",
    "    phisp_plt = fig.add_subplot(grid[0,2])\n",
    "    ien_plt = fig.add_subplot(grid[1,0])\n",
    "    iep_plt = fig.add_subplot(grid[1,2])\n",
    "    jn_plt = fig.add_subplot(grid[2,0])\n",
    "    jp_plt = fig.add_subplot(grid[2,2])\n",
    "    phie_plt = fig.add_subplot(grid[3,:])\n",
    "    etasLn_plt = fig.add_subplot(grid[4,:])\n",
    "    \n",
    "\n",
    "    \n",
    "    phisn_plt.plot(xn_vec_sim,phi_s_n_sim_[:,tt],LineWidth=lw)\n",
    "#     phisn_plt.set_xlim((0,xn_vec_sim[-1]))\n",
    "#     phisn_plt.set_ylim((np.min(phi_s_n_sim),np.max(phi_s_n_sim)))\n",
    "    phisn_plt.set_xlabel('x in Anode',fontsize=fs)\n",
    "    phisn_plt.set_ylabel(r'$\\phi^{-}_{s}(x,t)$',fontsize=fs)\n",
    "    phisn_plt.tick_params(labelsize=fs)\n",
    "\n",
    "    phisp_plt.plot(xp_vec_sim,phi_s_p_sim_[:,tt],LineWidth=lw)\n",
    "#     phisp_plt.set_xlim((0,xp_vec_sim[-1]))\n",
    "#     phisp_plt.set_ylim((np.min(phi_s_p_sim),np.max(phi_s_p_sim)))\n",
    "    phisp_plt.set_xlabel('x in Cathode',fontsize=fs)\n",
    "    phisp_plt.set_ylabel(r'$\\phi^{+}_{s}(x,t)$',fontsize=fs)\n",
    "    phisp_plt.tick_params(labelsize=fs)\n",
    "    \n",
    "    ien_plt.plot(xn_vec_sim,ien_sim_[:,tt],LineWidth=lw)\n",
    "#     ien_plt.set_xlim((0,xn_vec_sim[-1]))\n",
    "#     ien_plt.set_ylim((np.min(ien_sim),np.max(ien_sim)))\n",
    "    ien_plt.set_xlabel('x in Anode',fontsize=fs)\n",
    "    ien_plt.set_ylabel(r'$i^{-}_{e}(x,t)$',fontsize=fs)\n",
    "    ien_plt.tick_params(labelsize=fs)\n",
    "    \n",
    "    iep_plt.plot(xp_vec_sim,iep_sim_[:,tt],LineWidth=lw)\n",
    "#     iep_plt.set_xlim((0,xp_vec_sim[-1]))\n",
    "#     iep_plt.set_ylim((0,1))\n",
    "    iep_plt.set_xlabel('x in Cathode',fontsize=fs)\n",
    "    iep_plt.set_ylabel(r'$i^{+}_{e}(x,t)$',fontsize=fs)\n",
    "    iep_plt.tick_params(labelsize=fs)\n",
    "    \n",
    "    jn_plt.plot(xn_vec_sim,jn_sim_[:,tt],LineWidth=lw)\n",
    "#     jn_plt.set_xlim((0,xn_vec_sim[-1]))\n",
    "#     jn_plt.set_ylim((0, 1))\n",
    "    jn_plt.set_xlabel('x in Anode',fontsize=fs)\n",
    "    jn_plt.set_ylabel(r'$j^{-}_{n}(x,t)$',fontsize=fs)\n",
    "    jn_plt.tick_params(labelsize=fs)\n",
    "\n",
    "    jp_plt.plot(xp_vec_sim,jp_sim_[:,tt],LineWidth=lw)\n",
    "#     jp_plt.set_xlim((0,xp_vec_sim[-1]))\n",
    "#     jp_plt.set_ylim((0, 1))\n",
    "    jp_plt.set_xlabel('x in Cathode',fontsize=fs)\n",
    "    jp_plt.set_ylabel(r'$j^{+}_{n}(x,t)$',fontsize=fs)\n",
    "    jp_plt.tick_params(labelsize=fs)\n",
    "    \n",
    "    phie_plt.plot(x_vec_phie,phi_e_sim_[:,tt],LineWidth=lw)\n",
    "#     phie_plt.set_xlim((0,x_vec_phie[-1]))\n",
    "#     phie_plt.set_ylim((0, 0.2))\n",
    "    phie_plt.set_xlabel('x',fontsize=fs)\n",
    "    phie_plt.set_ylabel(r'$\\phi_{e}(x,t)$',fontsize=fs)\n",
    "    phie_plt.tick_params(labelsize=fs)\n",
    "    \n",
    "    etasLn_plt.plot(time_vec[:tt]/60,etasLn_sim_[:tt],LineWidth=lw)\n",
    "#     etasLn_plt.set_ylim((0,0.15))\n",
    "    etasLn_plt.set_xlim((0,time_vec[-1]/60))\n",
    "    etasLn_plt.set_xlabel('Time [min]',fontsize=fs)\n",
    "    etasLn_plt.set_ylabel(r'$\\eta_{sr}(L^{-},t)$ [V]',fontsize=fs)\n",
    "    etasLn_plt.tick_params(labelsize=fs)\n",
    "    \n",
    "#     ipdb.set_trace()\n",
    "\n",
    "    clear_output(wait=True)\n",
    "    display(fig)\n",
    "\n",
    "clear_output(wait=True)\n"
   ]
  },
  {
   "cell_type": "code",
   "execution_count": null,
   "metadata": {},
   "outputs": [],
   "source": []
  },
  {
   "cell_type": "code",
   "execution_count": null,
   "metadata": {},
   "outputs": [],
   "source": []
  }
 ],
 "metadata": {
  "kernelspec": {
   "display_name": "Python 3",
   "language": "python",
   "name": "python3"
  },
  "language_info": {
   "codemirror_mode": {
    "name": "ipython",
    "version": 3
   },
   "file_extension": ".py",
   "mimetype": "text/x-python",
   "name": "python",
   "nbconvert_exporter": "python",
   "pygments_lexer": "ipython3",
   "version": "3.7.3"
  }
 },
 "nbformat": 4,
 "nbformat_minor": 2
}
